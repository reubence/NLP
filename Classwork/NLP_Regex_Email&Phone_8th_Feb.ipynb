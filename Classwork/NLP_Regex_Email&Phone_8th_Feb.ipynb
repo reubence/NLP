{
  "nbformat": 4,
  "nbformat_minor": 0,
  "metadata": {
    "colab": {
      "name": "NLP-Regex-Email&Phone-8th-Feb.ipynb",
      "provenance": []
    },
    "kernelspec": {
      "name": "python3",
      "display_name": "Python 3"
    }
  },
  "cells": [
    {
      "cell_type": "code",
      "metadata": {
        "id": "2o0HgQj6plQY",
        "colab_type": "code",
        "colab": {}
      },
      "source": [
        "import re\n",
        "import numpy as np"
      ],
      "execution_count": 0,
      "outputs": []
    },
    {
      "cell_type": "code",
      "metadata": {
        "id": "CFQj55m2prFU",
        "colab_type": "code",
        "colab": {}
      },
      "source": [
        "def phone(str):\n",
        "  list = []\n",
        "  list = re.findall(r\"\\b[0-9]{10}\\b\", str)\n",
        "  return list"
      ],
      "execution_count": 0,
      "outputs": []
    },
    {
      "cell_type": "code",
      "metadata": {
        "id": "otBLcVg1puhQ",
        "colab_type": "code",
        "colab": {}
      },
      "source": [
        "def email(str):\n",
        "  list=[]\n",
        "  list=st = re.findall('\\S+@\\S+',str)\n",
        "  return list"
      ],
      "execution_count": 0,
      "outputs": []
    },
    {
      "cell_type": "code",
      "metadata": {
        "id": "mp-Y6Hb7qXbO",
        "colab_type": "code",
        "colab": {
          "base_uri": "https://localhost:8080/",
          "height": 33
        },
        "outputId": "7d9eeebb-02ef-45de-ae67-29d9aab66c1b"
      },
      "source": [
        "phone(\"yoyoyo9820311432 9820064912\")"
      ],
      "execution_count": 16,
      "outputs": [
        {
          "output_type": "execute_result",
          "data": {
            "text/plain": [
              "['9820064912']"
            ]
          },
          "metadata": {
            "tags": []
          },
          "execution_count": 16
        }
      ]
    },
    {
      "cell_type": "code",
      "metadata": {
        "id": "krf7pNL6qxfV",
        "colab_type": "code",
        "colab": {
          "base_uri": "https://localhost:8080/",
          "height": 33
        },
        "outputId": "0cc7bb77-e7ea-4849-989e-aa3d83da1049"
      },
      "source": [
        "email(\"my email is reuben@gmailcom\")"
      ],
      "execution_count": 12,
      "outputs": [
        {
          "output_type": "execute_result",
          "data": {
            "text/plain": [
              "['reuben@gmailcom']"
            ]
          },
          "metadata": {
            "tags": []
          },
          "execution_count": 12
        }
      ]
    },
    {
      "cell_type": "code",
      "metadata": {
        "id": "hb-v5svBq7kv",
        "colab_type": "code",
        "colab": {}
      },
      "source": [
        ""
      ],
      "execution_count": 0,
      "outputs": []
    }
  ]
}