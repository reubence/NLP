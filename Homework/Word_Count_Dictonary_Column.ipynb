{
  "nbformat": 4,
  "nbformat_minor": 0,
  "metadata": {
    "colab": {
      "name": "WordCountDict.ipynb",
      "provenance": [],
      "include_colab_link": true
    },
    "kernelspec": {
      "name": "python3",
      "display_name": "Python 3"
    }
  },
  "cells": [
    {
      "cell_type": "markdown",
      "metadata": {
        "id": "view-in-github",
        "colab_type": "text"
      },
      "source": [
        "<a href=\"https://colab.research.google.com/github/reubence/NLP-COURSEWORK/blob/master/WordCountDict.ipynb\" target=\"_parent\"><img src=\"https://colab.research.google.com/assets/colab-badge.svg\" alt=\"Open In Colab\"/></a>"
      ]
    },
    {
      "cell_type": "markdown",
      "metadata": {
        "id": "aIzJZP0XUdcu",
        "colab_type": "text"
      },
      "source": [
        "**Lecture 1:** Create a column of dictionary which contains word count of two columns"
      ]
    },
    {
      "cell_type": "code",
      "metadata": {
        "id": "j1c_quk5hpUM",
        "colab_type": "code",
        "colab": {}
      },
      "source": [
        "import pandas as pd\n",
        "import gzip"
      ],
      "execution_count": 0,
      "outputs": []
    },
    {
      "cell_type": "markdown",
      "metadata": {
        "id": "LldAHKMfTKTy",
        "colab_type": "text"
      },
      "source": [
        "**Reading Dataset from link**"
      ]
    },
    {
      "cell_type": "code",
      "metadata": {
        "id": "D8KCE_-Jhr9u",
        "colab_type": "code",
        "colab": {}
      },
      "source": [
        "df = pd.read_json(\"http://snap.stanford.edu/data/amazon/productGraph/categoryFiles/reviews_Office_Products_5.json.gz\",lines=True)"
      ],
      "execution_count": 0,
      "outputs": []
    },
    {
      "cell_type": "markdown",
      "metadata": {
        "id": "cHJV5_8NTRcW",
        "colab_type": "text"
      },
      "source": [
        "**Viewing dataset to get an idea**"
      ]
    },
    {
      "cell_type": "code",
      "metadata": {
        "id": "E1AxWxFdh9Zi",
        "colab_type": "code",
        "outputId": "68c73ef5-ef4d-454e-a509-54b658669594",
        "colab": {
          "base_uri": "https://localhost:8080/",
          "height": 280
        }
      },
      "source": [
        "df.head()"
      ],
      "execution_count": 5,
      "outputs": [
        {
          "output_type": "execute_result",
          "data": {
            "text/html": [
              "<div>\n",
              "<style scoped>\n",
              "    .dataframe tbody tr th:only-of-type {\n",
              "        vertical-align: middle;\n",
              "    }\n",
              "\n",
              "    .dataframe tbody tr th {\n",
              "        vertical-align: top;\n",
              "    }\n",
              "\n",
              "    .dataframe thead th {\n",
              "        text-align: right;\n",
              "    }\n",
              "</style>\n",
              "<table border=\"1\" class=\"dataframe\">\n",
              "  <thead>\n",
              "    <tr style=\"text-align: right;\">\n",
              "      <th></th>\n",
              "      <th>reviewerID</th>\n",
              "      <th>asin</th>\n",
              "      <th>reviewerName</th>\n",
              "      <th>helpful</th>\n",
              "      <th>reviewText</th>\n",
              "      <th>overall</th>\n",
              "      <th>summary</th>\n",
              "      <th>unixReviewTime</th>\n",
              "      <th>reviewTime</th>\n",
              "    </tr>\n",
              "  </thead>\n",
              "  <tbody>\n",
              "    <tr>\n",
              "      <th>0</th>\n",
              "      <td>A32T2H8150OJLU</td>\n",
              "      <td>B00000JBLH</td>\n",
              "      <td>ARH</td>\n",
              "      <td>[3, 4]</td>\n",
              "      <td>I bought my first HP12C in about 1984 or so, a...</td>\n",
              "      <td>5</td>\n",
              "      <td>A solid performer, and long time friend</td>\n",
              "      <td>1094169600</td>\n",
              "      <td>09 3, 2004</td>\n",
              "    </tr>\n",
              "    <tr>\n",
              "      <th>1</th>\n",
              "      <td>A3MAFS04ZABRGO</td>\n",
              "      <td>B00000JBLH</td>\n",
              "      <td>Let it Be \"Alan\"</td>\n",
              "      <td>[7, 9]</td>\n",
              "      <td>WHY THIS BELATED REVIEW? I feel very obliged t...</td>\n",
              "      <td>5</td>\n",
              "      <td>Price of GOLD is up, so don't bury the golden ...</td>\n",
              "      <td>1197676800</td>\n",
              "      <td>12 15, 2007</td>\n",
              "    </tr>\n",
              "    <tr>\n",
              "      <th>2</th>\n",
              "      <td>A1F1A0QQP2XVH5</td>\n",
              "      <td>B00000JBLH</td>\n",
              "      <td>Mark B</td>\n",
              "      <td>[3, 3]</td>\n",
              "      <td>I have an HP 48GX that has been kicking for mo...</td>\n",
              "      <td>2</td>\n",
              "      <td>Good functionality, but not durable like old HPs</td>\n",
              "      <td>1293840000</td>\n",
              "      <td>01 1, 2011</td>\n",
              "    </tr>\n",
              "    <tr>\n",
              "      <th>3</th>\n",
              "      <td>A49R5DBXXQDE5</td>\n",
              "      <td>B00000JBLH</td>\n",
              "      <td>R. D Johnson</td>\n",
              "      <td>[7, 8]</td>\n",
              "      <td>I've started doing more finance stuff recently...</td>\n",
              "      <td>5</td>\n",
              "      <td>One of the last of an almost extinct species</td>\n",
              "      <td>1145404800</td>\n",
              "      <td>04 19, 2006</td>\n",
              "    </tr>\n",
              "    <tr>\n",
              "      <th>4</th>\n",
              "      <td>A2XRMQA6PJ5ZJ8</td>\n",
              "      <td>B00000JBLH</td>\n",
              "      <td>Roger J. Buffington</td>\n",
              "      <td>[0, 0]</td>\n",
              "      <td>For simple calculations and discounted cash fl...</td>\n",
              "      <td>5</td>\n",
              "      <td>Still the best</td>\n",
              "      <td>1375574400</td>\n",
              "      <td>08 4, 2013</td>\n",
              "    </tr>\n",
              "  </tbody>\n",
              "</table>\n",
              "</div>"
            ],
            "text/plain": [
              "       reviewerID        asin  ... unixReviewTime   reviewTime\n",
              "0  A32T2H8150OJLU  B00000JBLH  ...     1094169600   09 3, 2004\n",
              "1  A3MAFS04ZABRGO  B00000JBLH  ...     1197676800  12 15, 2007\n",
              "2  A1F1A0QQP2XVH5  B00000JBLH  ...     1293840000   01 1, 2011\n",
              "3   A49R5DBXXQDE5  B00000JBLH  ...     1145404800  04 19, 2006\n",
              "4  A2XRMQA6PJ5ZJ8  B00000JBLH  ...     1375574400   08 4, 2013\n",
              "\n",
              "[5 rows x 9 columns]"
            ]
          },
          "metadata": {
            "tags": []
          },
          "execution_count": 5
        }
      ]
    },
    {
      "cell_type": "markdown",
      "metadata": {
        "id": "1H11UzO3TYHA",
        "colab_type": "text"
      },
      "source": [
        "**Creating a new dataframe of the columns that we need to extract word count dictionary from**"
      ]
    },
    {
      "cell_type": "code",
      "metadata": {
        "id": "Gp4q7AXJjOD6",
        "colab_type": "code",
        "colab": {}
      },
      "source": [
        "df2 = df[['reviewText','summary']]"
      ],
      "execution_count": 0,
      "outputs": []
    },
    {
      "cell_type": "markdown",
      "metadata": {
        "id": "imnFgYVgTfzg",
        "colab_type": "text"
      },
      "source": [
        "**Defining a function for counting number of words and storing them in a dictionary**"
      ]
    },
    {
      "cell_type": "code",
      "metadata": {
        "id": "Mj0LlUNWHVmB",
        "colab_type": "code",
        "colab": {}
      },
      "source": [
        "def wordCount(str):\n",
        "  count=dict()\n",
        "  words = str.lower().split()\n",
        "\n",
        "  for i in words:\n",
        "    if i in count:\n",
        "      count[i]+=1\n",
        "    else:\n",
        "      count[i]=1\n",
        "  return count"
      ],
      "execution_count": 0,
      "outputs": []
    },
    {
      "cell_type": "markdown",
      "metadata": {
        "id": "QgJn2p77ToGA",
        "colab_type": "text"
      },
      "source": [
        "**Applying above function to our columns that we need to generate a count for**"
      ]
    },
    {
      "cell_type": "code",
      "metadata": {
        "id": "2vIRFuZ2LF0x",
        "colab_type": "code",
        "colab": {
          "base_uri": "https://localhost:8080/",
          "height": 217
        },
        "outputId": "ff2dc9ce-988a-4c4f-bbf5-b28ce33c0b56"
      },
      "source": [
        "df2.reviewText.apply(wordCount,1)"
      ],
      "execution_count": 32,
      "outputs": [
        {
          "output_type": "execute_result",
          "data": {
            "text/plain": [
              "0        {'i': 7, 'bought': 1, 'my': 4, 'first': 1, 'hp...\n",
              "1        {'why': 2, 'this': 13, 'belated': 1, 'review?'...\n",
              "2        {'i': 2, 'have': 2, 'an': 2, 'hp': 3, '48gx': ...\n",
              "3        {'i've': 4, 'started': 1, 'doing': 2, 'more': ...\n",
              "4        {'for': 4, 'simple': 1, 'calculations': 2, 'an...\n",
              "                               ...                        \n",
              "53253    {'what': 1, 'i': 1, 'like': 1, 'about': 1, 'th...\n",
              "53254    {'this': 6, 'accuteck': 2, 'shippro': 2, 'digi...\n",
              "53255    {'i': 6, 'ship': 1, 'a': 10, 'lot': 1, 'of': 7...\n",
              "53256    {'this': 2, 'is': 4, 'a': 5, 'great': 2, 'litt...\n",
              "53257    {'when': 1, 'asked': 1, 'to': 9, 'review': 1, ...\n",
              "Name: reviewText, Length: 53258, dtype: object"
            ]
          },
          "metadata": {
            "tags": []
          },
          "execution_count": 32
        }
      ]
    },
    {
      "cell_type": "code",
      "metadata": {
        "id": "F_Z1PbhhLfLO",
        "colab_type": "code",
        "colab": {
          "base_uri": "https://localhost:8080/",
          "height": 217
        },
        "outputId": "0bd672fc-c600-47d0-89a7-44252a5b5232"
      },
      "source": [
        "df2.summary.apply(wordCount,1)"
      ],
      "execution_count": 33,
      "outputs": [
        {
          "output_type": "execute_result",
          "data": {
            "text/plain": [
              "0        {'a': 1, 'solid': 1, 'performer,': 1, 'and': 1...\n",
              "1        {'price': 1, 'of': 1, 'gold': 1, 'is': 1, 'up,...\n",
              "2        {'good': 1, 'functionality,': 1, 'but': 1, 'no...\n",
              "3        {'one': 1, 'of': 2, 'the': 1, 'last': 1, 'an':...\n",
              "4                        {'still': 1, 'the': 1, 'best': 1}\n",
              "                               ...                        \n",
              "53253    {'portable': 1, 'and': 1, 'very': 1, 'easy': 1...\n",
              "53254    {'accuteck': 1, 'shippro': 1, 'digital': 1, 'p...\n",
              "53255    {'extremely': 1, 'accurate,': 1, 'foolproof': ...\n",
              "53256     {'fast,': 1, 'easy': 1, 'and': 1, 'accurate': 1}\n",
              "53257    {'great': 1, 'value': 1, 'on': 1, 'a': 1, 'goo...\n",
              "Name: summary, Length: 53258, dtype: object"
            ]
          },
          "metadata": {
            "tags": []
          },
          "execution_count": 33
        }
      ]
    },
    {
      "cell_type": "code",
      "metadata": {
        "id": "f402uVlZQwp8",
        "colab_type": "code",
        "colab": {}
      },
      "source": [
        ""
      ],
      "execution_count": 0,
      "outputs": []
    }
  ]
}
