{
  "nbformat": 4,
  "nbformat_minor": 0,
  "metadata": {
    "colab": {
      "name": "Untitled1.ipynb",
      "provenance": [],
      "include_colab_link": true
    },
    "kernelspec": {
      "name": "python3",
      "display_name": "Python 3"
    }
  },
  "cells": [
    {
      "cell_type": "markdown",
      "metadata": {
        "id": "view-in-github",
        "colab_type": "text"
      },
      "source": [
        "<a href=\"https://colab.research.google.com/github/reubence/NLP-COURSEWORK/blob/master/Nth_Prime_No.ipynb\" target=\"_parent\"><img src=\"https://colab.research.google.com/assets/colab-badge.svg\" alt=\"Open In Colab\"/></a>"
      ]
    },
    {
      "cell_type": "markdown",
      "metadata": {
        "id": "FSCKuKVkWw0o",
        "colab_type": "text"
      },
      "source": [
        "**Class 1:** Find the N th Prime Number "
      ]
    },
    {
      "cell_type": "code",
      "metadata": {
        "id": "85sCMnPcVmbO",
        "colab_type": "code",
        "colab": {
          "base_uri": "https://localhost:8080/",
          "height": 50
        },
        "outputId": "032e94e9-1d4d-4767-f355-c6d97b2920a9"
      },
      "source": [
        "n=int(input(\"Enter the nth prime yo :\"))\n",
        "prime_no=[2,3]\n",
        "i=3\n",
        "if(0<n<3):\n",
        "  print(n,\"th prime = \",prime_no[n-1])\n",
        "elif(n>2):\n",
        "  while(True):\n",
        "    i+=1\n",
        "    prime=True\n",
        "    for d in range( 2,int(i/2)+1):\n",
        "      if (i%d==0):\n",
        "        prime=False\n",
        "        break\n",
        "    if(prime==True):\n",
        "          prime_no.append(i)\n",
        "    if(len(prime_no)==n):\n",
        "        break\n",
        "  print(n,'th prime no is :', prime_no[n-1])\n",
        "else:\n",
        "  print('Enter A Valid Number yoo')"
      ],
      "execution_count": 2,
      "outputs": [
        {
          "output_type": "stream",
          "text": [
            "Enter the nth prime yo :5\n",
            "5 th prime no is : 11\n"
          ],
          "name": "stdout"
        }
      ]
    }
  ]
}