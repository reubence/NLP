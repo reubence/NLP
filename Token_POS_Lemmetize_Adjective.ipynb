{
  "nbformat": 4,
  "nbformat_minor": 0,
  "metadata": {
    "colab": {
      "name": "Token-POS-Lemmetize-Adjective.ipynb",
      "provenance": [],
      "include_colab_link": true
    },
    "kernelspec": {
      "name": "python3",
      "display_name": "Python 3"
    }
  },
  "cells": [
    {
      "cell_type": "markdown",
      "metadata": {
        "id": "view-in-github",
        "colab_type": "text"
      },
      "source": [
        "<a href=\"https://colab.research.google.com/github/reubence/NLP-COURSEWORK/blob/master/Token_POS_Lemmetize_Adjective.ipynb\" target=\"_parent\"><img src=\"https://colab.research.google.com/assets/colab-badge.svg\" alt=\"Open In Colab\"/></a>"
      ]
    },
    {
      "cell_type": "code",
      "metadata": {
        "id": "MHhNggJlAFNC",
        "colab_type": "code",
        "colab": {}
      },
      "source": [
        "from nltk.tokenize import word_tokenize \n",
        "from nltk.stem import WordNetLemmatizer \n",
        "import nltk\n",
        "import pandas as pd\n",
        "import urllib, json\n"
      ],
      "execution_count": 0,
      "outputs": []
    },
    {
      "cell_type": "code",
      "metadata": {
        "id": "RI72BAYeA5uf",
        "colab_type": "code",
        "colab": {}
      },
      "source": [
        "df=pd.read_json(\"http://snap.stanford.edu/data/amazon/productGraph/categoryFiles/reviews_Office_Products_5.json.gz\",lines=True)\n",
        "df=df.head(10)"
      ],
      "execution_count": 0,
      "outputs": []
    },
    {
      "cell_type": "code",
      "metadata": {
        "id": "G9fefXkuAGYk",
        "colab_type": "code",
        "colab": {
          "base_uri": "https://localhost:8080/",
          "height": 202
        },
        "outputId": "9682fecb-5012-42d4-8ad3-9184b3f777a3"
      },
      "source": [
        "def nltk_token(sentence):\n",
        "  tokens=dict()\n",
        "  tokens[\"Tokens\"] = word_tokenize(sentence)\n",
        "  return tokens\n",
        "\n",
        "df['reviewText_tokens']= df['reviewText'].apply(nltk_token)\n",
        "print(df[\"reviewText_tokens\"])\n"
      ],
      "execution_count": 2,
      "outputs": [
        {
          "output_type": "stream",
          "text": [
            "0    {'Tokens': ['I', 'bought', 'my', 'first', 'HP1...\n",
            "1    {'Tokens': ['WHY', 'THIS', 'BELATED', 'REVIEW'...\n",
            "2    {'Tokens': ['I', 'have', 'an', 'HP', '48GX', '...\n",
            "3    {'Tokens': ['I', ''ve', 'started', 'doing', 'm...\n",
            "4    {'Tokens': ['For', 'simple', 'calculations', '...\n",
            "5    {'Tokens': ['While', 'I', 'do', 'n't', 'have',...\n",
            "6    {'Tokens': ['I', ''ve', 'had', 'an', 'HP', '12...\n",
            "7    {'Tokens': ['Bought', 'this', 'for', 'my', 'bo...\n",
            "8    {'Tokens': ['This', 'is', 'a', 'well-designed'...\n",
            "9    {'Tokens': ['I', 'love', 'this', 'calculator',...\n",
            "Name: reviewText_tokens, dtype: object\n"
          ],
          "name": "stdout"
        }
      ]
    },
    {
      "cell_type": "code",
      "metadata": {
        "id": "kxtNhxCCAH9f",
        "colab_type": "code",
        "colab": {
          "base_uri": "https://localhost:8080/",
          "height": 202
        },
        "outputId": "d86606e0-50bb-4ca1-f8db-a63df7d5d0c4"
      },
      "source": [
        "from nltk.tokenize import MWETokenizer\n",
        "tokenizer = MWETokenizer()\n",
        "\n",
        "def mwe_token(sentence):\n",
        "  Mwe=dict()\n",
        "  Mwe[\"MWE_tokens\"]=tokenizer.tokenize(sentence)\n",
        "  return Mwe\n",
        "\n",
        "df['reviewText_mweTokens']= df['reviewText'].apply(mwe_token)\n",
        "print(df[\"reviewText_mweTokens\"])\n"
      ],
      "execution_count": 3,
      "outputs": [
        {
          "output_type": "stream",
          "text": [
            "0    {'MWE_tokens': ['I', ' ', 'b', 'o', 'u', 'g', ...\n",
            "1    {'MWE_tokens': ['W', 'H', 'Y', ' ', 'T', 'H', ...\n",
            "2    {'MWE_tokens': ['I', ' ', 'h', 'a', 'v', 'e', ...\n",
            "3    {'MWE_tokens': ['I', ''', 'v', 'e', ' ', 's', ...\n",
            "4    {'MWE_tokens': ['F', 'o', 'r', ' ', 's', 'i', ...\n",
            "5    {'MWE_tokens': ['W', 'h', 'i', 'l', 'e', ' ', ...\n",
            "6    {'MWE_tokens': ['I', ''', 'v', 'e', ' ', 'h', ...\n",
            "7    {'MWE_tokens': ['B', 'o', 'u', 'g', 'h', 't', ...\n",
            "8    {'MWE_tokens': ['T', 'h', 'i', 's', ' ', 'i', ...\n",
            "9    {'MWE_tokens': ['I', ' ', 'l', 'o', 'v', 'e', ...\n",
            "Name: reviewText_mweTokens, dtype: object\n"
          ],
          "name": "stdout"
        }
      ]
    },
    {
      "cell_type": "code",
      "metadata": {
        "id": "V3gbAesjAJtJ",
        "colab_type": "code",
        "colab": {
          "base_uri": "https://localhost:8080/",
          "height": 202
        },
        "outputId": "bbca6cd8-2968-49a6-cb10-15795e1c92c6"
      },
      "source": [
        "def nltk_postag(sentence):\n",
        "  pos_t=dict()\n",
        "  pos_t[\"Position_Tags\"]=nltk.pos_tag(nltk.word_tokenize(sentence))  \n",
        "  return pos_t\n",
        "\n",
        "df['reviewText_postntag']= df['reviewText'].apply(nltk_postag)\n",
        "print(df[\"reviewText_postntag\"])\n"
      ],
      "execution_count": 4,
      "outputs": [
        {
          "output_type": "stream",
          "text": [
            "0    {'Position_Tags': [('I', 'PRP'), ('bought', 'V...\n",
            "1    {'Position_Tags': [('WHY', 'WRB'), ('THIS', 'N...\n",
            "2    {'Position_Tags': [('I', 'PRP'), ('have', 'VBP...\n",
            "3    {'Position_Tags': [('I', 'PRP'), (''ve', 'VBP'...\n",
            "4    {'Position_Tags': [('For', 'IN'), ('simple', '...\n",
            "5    {'Position_Tags': [('While', 'IN'), ('I', 'PRP...\n",
            "6    {'Position_Tags': [('I', 'PRP'), (''ve', 'VBP'...\n",
            "7    {'Position_Tags': [('Bought', 'NNP'), ('this',...\n",
            "8    {'Position_Tags': [('This', 'DT'), ('is', 'VBZ...\n",
            "9    {'Position_Tags': [('I', 'PRP'), ('love', 'VBP...\n",
            "Name: reviewText_postntag, dtype: object\n"
          ],
          "name": "stdout"
        }
      ]
    },
    {
      "cell_type": "code",
      "metadata": {
        "id": "Jku5w5XnANtH",
        "colab_type": "code",
        "colab": {
          "base_uri": "https://localhost:8080/",
          "height": 202
        },
        "outputId": "9a176c8a-6950-430c-a1eb-74cb0ec6774b"
      },
      "source": [
        "def nltk_lemma(sentence):\n",
        "  lemma=dict()\n",
        "  lemma[\"Lemma\"]=lemmatize_sentence(sentence)\n",
        "  return lemma\n",
        "\n",
        "df['reviewText_lemma']= df['reviewText'].apply(nltk_lemma)s\n",
        "print(df[\"reviewText_lemma\"])\n"
      ],
      "execution_count": 6,
      "outputs": [
        {
          "output_type": "stream",
          "text": [
            "0    {'Lemma': ['i', 'buy', 'my', 'first', 'hp12c',...\n",
            "1    {'Lemma': ['why', 'this', 'belated', 'review',...\n",
            "2    {'Lemma': ['i', 'have', 'an', 'hp', '48gx', 't...\n",
            "3    {'Lemma': ['i', ''ve', 'start', 'do', 'more', ...\n",
            "4    {'Lemma': ['for', 'simple', 'calculation', 'an...\n",
            "5    {'Lemma': ['while', 'i', 'do', 'n't', 'have', ...\n",
            "6    {'Lemma': ['i', ''ve', 'have', 'an', 'hp', '12...\n",
            "7    {'Lemma': ['bought', 'this', 'for', 'my', 'bos...\n",
            "8    {'Lemma': ['this', 'be', 'a', 'well-designed',...\n",
            "9    {'Lemma': ['i', 'love', 'this', 'calculator', ...\n",
            "Name: reviewText_lemma, dtype: object\n"
          ],
          "name": "stdout"
        }
      ]
    },
    {
      "cell_type": "code",
      "metadata": {
        "id": "gOXTvgoDAPL0",
        "colab_type": "code",
        "colab": {
          "base_uri": "https://localhost:8080/",
          "height": 202
        },
        "outputId": "80224997-b58c-495b-d930-bf0f30f7798d"
      },
      "source": [
        "def nltk_adjectives(sentence):\n",
        "  adjectives=dict()\n",
        "  adjectives[\"adjectives\"] = [token for token, pos in nltk.pos_tag(word_tokenize(sentence)) if pos.startswith('J')]\n",
        "  return adjectives\n",
        "\n",
        "df['reviewText_adjectives']= df['reviewText'].apply(nltk_adjectives)\n",
        "print(df[\"reviewText_adjectives\"])\n"
      ],
      "execution_count": 7,
      "outputs": [
        {
          "output_type": "stream",
          "text": [
            "0    {'adjectives': ['first', 'difficult', 'many', ...\n",
            "1    {'adjectives': ['old', 'satisfied', 'ower', 'f...\n",
            "2    {'adjectives': ['more', 'more', 'old', 'flawle...\n",
            "3    {'adjectives': ['more', 'good', 'available', '...\n",
            "4    {'adjectives': ['simple', 'best', 'financial',...\n",
            "5    {'adjectives': ['hard', 'undergraduate', 'quic...\n",
            "6    {'adjectives': ['available', 'original', 'esse...\n",
            "7                  {'adjectives': ['great', 'little']}\n",
            "8    {'adjectives': ['well-designed', 'simple', 'ty...\n",
            "9    {'adjectives': ['big', 'calculate', 'easy', 'e...\n",
            "Name: reviewText_adjectives, dtype: object\n"
          ],
          "name": "stdout"
        }
      ]
    },
    {
      "cell_type": "code",
      "metadata": {
        "id": "RTrJSgwGARTP",
        "colab_type": "code",
        "colab": {}
      },
      "source": [
        ""
      ],
      "execution_count": 0,
      "outputs": []
    }
  ]
}