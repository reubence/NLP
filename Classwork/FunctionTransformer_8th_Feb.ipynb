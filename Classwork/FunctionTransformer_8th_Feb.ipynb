{
  "nbformat": 4,
  "nbformat_minor": 0,
  "metadata": {
    "colab": {
      "name": "NLP-FunctionTransformer-8th-Feb.ipynb",
      "provenance": [],
      "collapsed_sections": []
    },
    "kernelspec": {
      "name": "python3",
      "display_name": "Python 3"
    }
  },
  "cells": [
    {
      "cell_type": "markdown",
      "metadata": {
        "id": "kfrgTdv-ZS2C",
        "colab_type": "text"
      },
      "source": [
        "**MAKE CUSTOME FUNCTION FOR MIN/MAX SCALING AND INVERSE MIN/MAX SCALING**\n",
        "\n",
        "**MAKE CUSTOM FUNCTION TO EXTRACT COLUMNS BASED ON INDICES, AND APPLY THE ONEHOTENCODER FUNCTION**\n"
      ]
    },
    {
      "cell_type": "code",
      "metadata": {
        "id": "1nVvRu_gSgg0",
        "colab_type": "code",
        "colab": {}
      },
      "source": [
        "from sklearn.preprocessing import FunctionTransformer\n",
        "from sklearn.preprocessing import MinMaxScaler\n",
        "import numpy as np\n",
        "import pandas as pd\n",
        "from sklearn.base import BaseEstimator, TransformerMixin\n",
        "from sklearn.pipeline import Pipeline"
      ],
      "execution_count": 0,
      "outputs": []
    },
    {
      "cell_type": "code",
      "metadata": {
        "id": "aNxzg-vmaDGt",
        "colab_type": "code",
        "colab": {}
      },
      "source": [
        "def pos_selctor(df,indices, funtion = None):\n",
        "  if np.dtype(df[i for i in indices]) == "
      ],
      "execution_count": 0,
      "outputs": []
    },
    {
      "cell_type": "code",
      "metadata": {
        "id": "YcpE5CzVSl45",
        "colab_type": "code",
        "colab": {}
      },
      "source": [
        "transformer = FunctionTransformer(np.log1p)"
      ],
      "execution_count": 0,
      "outputs": []
    },
    {
      "cell_type": "code",
      "metadata": {
        "id": "t6ix7JCzSnLe",
        "colab_type": "code",
        "outputId": "578a5e20-cf3e-4418-8c4e-5ae396586ae6",
        "colab": {
          "base_uri": "https://localhost:8080/",
          "height": 50
        }
      },
      "source": [
        "X = np.array([[0, 1], [2, 3]])\n",
        "transformer.transform(X)"
      ],
      "execution_count": 5,
      "outputs": [
        {
          "output_type": "execute_result",
          "data": {
            "text/plain": [
              "array([[0.        , 0.69314718],\n",
              "       [1.09861229, 1.38629436]])"
            ]
          },
          "metadata": {
            "tags": []
          },
          "execution_count": 5
        }
      ]
    },
    {
      "cell_type": "code",
      "metadata": {
        "id": "Qug0ZJulSoZy",
        "colab_type": "code",
        "colab": {}
      },
      "source": [
        "scaler = MinMaxScaler()"
      ],
      "execution_count": 0,
      "outputs": []
    },
    {
      "cell_type": "code",
      "metadata": {
        "id": "mab8nOEYVOEo",
        "colab_type": "code",
        "colab": {}
      },
      "source": [
        "transfor = scaler.fit_transform(X)"
      ],
      "execution_count": 0,
      "outputs": []
    },
    {
      "cell_type": "code",
      "metadata": {
        "id": "J7QDoaqKT6zn",
        "colab_type": "code",
        "outputId": "2a549074-baa9-4be5-edc1-6c2eaf5213ba",
        "colab": {
          "base_uri": "https://localhost:8080/",
          "height": 50
        }
      },
      "source": [
        "print(scaler.inverse_transform(transfor))"
      ],
      "execution_count": 8,
      "outputs": [
        {
          "output_type": "stream",
          "text": [
            "[[0. 1.]\n",
            " [2. 3.]]\n"
          ],
          "name": "stdout"
        }
      ]
    },
    {
      "cell_type": "code",
      "metadata": {
        "id": "n6rXrwtJWafY",
        "colab_type": "code",
        "colab": {}
      },
      "source": [
        "class PostitionalSelector(BaseEstimator, TransformerMixin):\n",
        "  def __init_(self,positions):\n",
        "    self.positions = positions\n",
        "\n",
        "  def fit(self,X,y=None): #logic to exlude Y column if entire dataframe is passed\n",
        "    return\n",
        "\n",
        "  def transform(self,X):\n",
        "    return np.array(X)[:self.positions]\n",
        "\n",
        "  def inverse_transform(X): #have to return df\n",
        "    return X"
      ],
      "execution_count": 0,
      "outputs": []
    },
    {
      "cell_type": "code",
      "metadata": {
        "id": "ed9F0lwoexWK",
        "colab_type": "code",
        "colab": {}
      },
      "source": [
        "class Min_Max_Scaler(BaseEstimator, TransformerMixin):\n",
        "  def __init_(self):\n",
        "    def fit(self,X,y=None): #logic to exlude Y column if entire dataframe is passed\n",
        "      return\n",
        "    \n",
        "    def transform(self,X):\n",
        "      return np.array(X)[:self.positions]"
      ],
      "execution_count": 0,
      "outputs": []
    },
    {
      "cell_type": "code",
      "metadata": {
        "id": "vZpnhGSrfPHD",
        "colab_type": "code",
        "colab": {}
      },
      "source": [
        "pipeline = Pipeline(['MinMaxScaler', Min_Max_Scaler()])"
      ],
      "execution_count": 0,
      "outputs": []
    },
    {
      "cell_type": "code",
      "metadata": {
        "id": "VsnJOlQBmeca",
        "colab_type": "code",
        "colab": {}
      },
      "source": [
        ""
      ],
      "execution_count": 0,
      "outputs": []
    }
  ]
}