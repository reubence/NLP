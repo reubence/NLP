{
  "nbformat": 4,
  "nbformat_minor": 0,
  "metadata": {
    "colab": {
      "name": "Spacy-Assignment.ipynb",
      "provenance": [],
      "collapsed_sections": [],
      "include_colab_link": true
    },
    "kernelspec": {
      "name": "python3",
      "display_name": "Python 3"
    },
    "accelerator": "GPU"
  },
  "cells": [
    {
      "cell_type": "markdown",
      "metadata": {
        "id": "view-in-github",
        "colab_type": "text"
      },
      "source": [
        "<a href=\"https://colab.research.google.com/github/reubence/NLP-COURSEWORK/blob/master/Spacy_Assignment.ipynb\" target=\"_parent\"><img src=\"https://colab.research.google.com/assets/colab-badge.svg\" alt=\"Open In Colab\"/></a>"
      ]
    },
    {
      "cell_type": "markdown",
      "metadata": {
        "id": "6JIBEBx9ez9h",
        "colab_type": "text"
      },
      "source": [
        "**NLP Lecture 3 (10-12-19):** Using spacy to extract tokens, lemmatize words and to find adjectives and nouns"
      ]
    },
    {
      "cell_type": "code",
      "metadata": {
        "id": "8EOIwcdXG6Sd",
        "colab_type": "code",
        "colab": {}
      },
      "source": [
        "from spacy.tokenizer import Tokenizer\n",
        "from spacy.lang.en import English\n",
        "import spacy\n",
        "import pandas as pd\n",
        "from spacy.pipeline import DependencyParser\n"
      ],
      "execution_count": 0,
      "outputs": []
    },
    {
      "cell_type": "code",
      "metadata": {
        "id": "PzrIPaPvY2O2",
        "colab_type": "code",
        "colab": {
          "base_uri": "https://localhost:8080/",
          "height": 54
        },
        "outputId": "97b84a38-3ea5-4453-b6f4-bb0e484198f8"
      },
      "source": [
        "url = \"http://snap.stanford.edu/data/amazon/productGraph/categoryFiles/reviews_Office_Products_5.json.gz\"\n",
        "r = pd.read_json(url,lines=True)\n",
        "rt = r[\"reviewText\"][0]\n",
        "rt"
      ],
      "execution_count": 104,
      "outputs": [
        {
          "output_type": "execute_result",
          "data": {
            "text/plain": [
              "\"I bought my first HP12C in about 1984 or so, and it served me faithfully until 2002 when I lost it while travelling.  I searched for another one to replace it, but found one difficult to come by in my area.  So, I decided to buy up and purchased an HP 49G.  What a mistake!  I know that many people view the HP 49G (now 49G+) as the flagship of the HP line, but for me that was a disaster.The 49G may be powerful, but using it is extremely counterintuitive...and the manual was sketchy at best.  The 12C, on the other hand, does what I need in a way that makes good sense to me.If you are looking for a solid, reliable calculator, the HP12C may be for you.  It's programmable.  It does basic statistics well, and many business applications too.  The manual makes sense; you will be up and running in short order.I'm ready to set my 49G aside and move back to my old friend.  I didn't even have to replace the batteries in well over a decade of use!HP 12C, I'm coming home!\""
            ]
          },
          "metadata": {
            "tags": []
          },
          "execution_count": 104
        }
      ]
    },
    {
      "cell_type": "code",
      "metadata": {
        "id": "4VHlFVnQHF37",
        "colab_type": "code",
        "colab": {}
      },
      "source": [
        "sp = spacy.load('en_core_web_sm')\n",
        "parser = DependencyParser(nlp.vocab)"
      ],
      "execution_count": 0,
      "outputs": []
    },
    {
      "cell_type": "code",
      "metadata": {
        "id": "OyioaKk9HQQQ",
        "colab_type": "code",
        "colab": {}
      },
      "source": [
        "sentence = rt\n",
        "sent_tok = nlp(sentence)"
      ],
      "execution_count": 0,
      "outputs": []
    },
    {
      "cell_type": "code",
      "metadata": {
        "id": "raRsbDbaLuGu",
        "colab_type": "code",
        "colab": {}
      },
      "source": [
        "def pipeline(sent_tok):\n",
        "  token = []\n",
        "  noun = []\n",
        "  ADJ = []\n",
        "  lemma = []\n",
        "  tagger = []\n",
        "  tagger = dict([(tagg.text,tagg.pos_) for tagg in sent_tok])\n",
        "  token = \" \".join([t.text for t in sent_tok])\n",
        "  # parser = [doc for doc in tagger]\n",
        "  lemma = \" \".join([lem.lemma_ for lem in sent_tok])\n",
        "  noun = \" \".join([t.text for t in sent_tok.noun_chunks])\n",
        "  ADJ = [word for word in tagger if tagger[word]=='ADJ']\n",
        "  noun = {\"TOKEN\": token, \"LEMMATIZE\": lemma, \"ADJ\": ADJ,\"NOUN\":noun,} #PRINTING THE DICTIONARY\n",
        "  return(noun)\n"
      ],
      "execution_count": 0,
      "outputs": []
    },
    {
      "cell_type": "code",
      "metadata": {
        "id": "XFxLXcLYJAZb",
        "colab_type": "code",
        "outputId": "b0782b44-301c-4c7c-fdc3-561026cce87e",
        "colab": {
          "base_uri": "https://localhost:8080/",
          "height": 373
        }
      },
      "source": [
        "pipeline(nlp(rt))"
      ],
      "execution_count": 95,
      "outputs": [
        {
          "output_type": "execute_result",
          "data": {
            "text/plain": [
              "{'ADJ': ['first',\n",
              "  'difficult',\n",
              "  'many',\n",
              "  'powerful',\n",
              "  'counterintuitive',\n",
              "  'sketchy',\n",
              "  'best',\n",
              "  'other',\n",
              "  'good',\n",
              "  'solid',\n",
              "  'reliable',\n",
              "  'programmable',\n",
              "  'basic',\n",
              "  'short',\n",
              "  'ready',\n",
              "  'old',\n",
              "  'use!HP'],\n",
              " 'LEMMATIZE': \"-PRON- buy -PRON- first hp12c in about 1984 or so , and -PRON- serve -PRON- faithfully until 2002 when -PRON- lose -PRON- while travel .   -PRON- search for another one to replace -PRON- , but find one difficult to come by in -PRON- area .   so , -PRON- decide to buy up and purchase an HP 49g.   what a mistake !   -PRON- know that many people view the HP 49 G ( now 49g+ ) as the flagship of the HP line , but for -PRON- that be a disaster . the 49 g may be powerful , but use -PRON- be extremely counterintuitive ... and the manual be sketchy at good .   the 12c , on the other hand , do what -PRON- need in a way that make good sense to -PRON- . if -PRON- be look for a solid , reliable calculator , the hp12c may be for -PRON- .   -PRON- be programmable .   -PRON- do basic statistic well , and many business application too .   the manual make sense ; -PRON- will be up and run in short order . i'm ready to set -PRON- 49 g aside and move back to -PRON- old friend .   -PRON- do not even have to replace the battery in well over a decade of use!hp 12c , -PRON- be come home !\",\n",
              " 'NOUN': \"I my first HP12C it me I it I another one it my area I What a mistake I many people the HP 49G the flagship the HP line me a disaster The 49G it the manual the other hand what I a way good sense me you a solid, reliable calculator the HP12C you It It basic statistics many business applications The manual sense you short order I'm my 49G my old friend I the batteries a decade I\",\n",
              " 'TOKEN': \"I bought my first HP12C in about 1984 or so , and it served me faithfully until 2002 when I lost it while travelling .   I searched for another one to replace it , but found one difficult to come by in my area .   So , I decided to buy up and purchased an HP 49G.   What a mistake !   I know that many people view the HP 49 G ( now 49G+ ) as the flagship of the HP line , but for me that was a disaster . The 49 G may be powerful , but using it is extremely counterintuitive ... and the manual was sketchy at best .   The 12C , on the other hand , does what I need in a way that makes good sense to me . If you are looking for a solid , reliable calculator , the HP12C may be for you .   It 's programmable .   It does basic statistics well , and many business applications too .   The manual makes sense ; you will be up and running in short order . I'm ready to set my 49 G aside and move back to my old friend .   I did n't even have to replace the batteries in well over a decade of use!HP 12C , I 'm coming home !\"}"
            ]
          },
          "metadata": {
            "tags": []
          },
          "execution_count": 95
        }
      ]
    },
    {
      "cell_type": "code",
      "metadata": {
        "id": "sakgV22YOKF6",
        "colab_type": "code",
        "colab": {}
      },
      "source": [
        ""
      ],
      "execution_count": 0,
      "outputs": []
    }
  ]
}