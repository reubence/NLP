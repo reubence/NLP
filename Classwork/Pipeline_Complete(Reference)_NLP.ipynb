{
  "nbformat": 4,
  "nbformat_minor": 0,
  "metadata": {
    "colab": {
      "name": "Pipeline-Complete(Reference)-NLP",
      "provenance": [],
      "collapsed_sections": []
    },
    "kernelspec": {
      "name": "python3",
      "display_name": "Python 3"
    }
  },
  "cells": [
    {
      "cell_type": "code",
      "metadata": {
        "id": "OyfawyqfQr4C",
        "colab_type": "code",
        "colab": {}
      },
      "source": [
        "import pandas as pd\n",
        "import numpy as np\n",
        "import nltk\n",
        "import re\n",
        "from sklearn.feature_extraction.text import TfidfTransformer,CountVectorizer,TfidfVectorizer\n",
        "from nltk import word_tokenize\n",
        "import string \n",
        "from sklearn.decomposition import nmf\n",
        "from nltk.corpus import stopwords\n",
        "from nltk.stem import WordNetLemmatizer\n",
        "from sklearn.metrics import classification_report\n",
        "from sklearn.linear_model import LogisticRegression\n",
        "from sklearn.naive_bayes import GaussianNB\n",
        "from nltk.corpus import wordnet\n",
        "from sklearn.pipeline import Pipeline\n",
        "from sklearn.metrics import classification_report\n",
        "from sklearn.ensemble import RandomForestClassifier\n",
        "from sklearn.model_selection import train_test_split as tts,GridSearchCV\n",
        "import lightgbm as lgb\n",
        "from sklearn.preprocessing import LabelEncoder"
      ],
      "execution_count": 0,
      "outputs": []
    },
    {
      "cell_type": "code",
      "metadata": {
        "id": "Eo2qujM8S-yq",
        "colab_type": "code",
        "outputId": "c1f79175-7729-4e21-832b-b7612e616156",
        "colab": {
          "base_uri": "https://localhost:8080/",
          "height": 50
        }
      },
      "source": [
        "%reset"
      ],
      "execution_count": 0,
      "outputs": [
        {
          "output_type": "stream",
          "text": [
            "Once deleted, variables cannot be recovered. Proceed (y/[n])? \n",
            "Nothing done.\n"
          ],
          "name": "stdout"
        }
      ]
    },
    {
      "cell_type": "code",
      "metadata": {
        "id": "-8El_AlCyrhn",
        "colab_type": "code",
        "colab": {}
      },
      "source": [
        "def text(str):\n",
        "  str_new = \" \".join(re.findall(\"[a-zA-Z]+\", str))\n",
        "  return (str_new)"
      ],
      "execution_count": 0,
      "outputs": []
    },
    {
      "cell_type": "code",
      "metadata": {
        "id": "L8ArbwuVQtl6",
        "colab_type": "code",
        "outputId": "77035afe-b179-46c2-86eb-383501eea904",
        "colab": {
          "base_uri": "https://localhost:8080/",
          "height": 134
        }
      },
      "source": [
        "nltk.download('punkt')\n",
        "nltk.download('stopwords')\n",
        "stop_words = set(stopwords.words('english'))\n",
        "nltk.download('words')"
      ],
      "execution_count": 0,
      "outputs": [
        {
          "output_type": "stream",
          "text": [
            "[nltk_data] Downloading package punkt to /root/nltk_data...\n",
            "[nltk_data]   Package punkt is already up-to-date!\n",
            "[nltk_data] Downloading package stopwords to /root/nltk_data...\n",
            "[nltk_data]   Package stopwords is already up-to-date!\n",
            "[nltk_data] Downloading package words to /root/nltk_data...\n",
            "[nltk_data]   Package words is already up-to-date!\n"
          ],
          "name": "stdout"
        },
        {
          "output_type": "execute_result",
          "data": {
            "text/plain": [
              "True"
            ]
          },
          "metadata": {
            "tags": []
          },
          "execution_count": 48
        }
      ]
    },
    {
      "cell_type": "code",
      "metadata": {
        "id": "m8yKn9sShjgC",
        "colab_type": "code",
        "colab": {}
      },
      "source": [
        "def tokenize(str_new):\n",
        "  tokens = []\n",
        "  tokens = nltk.word_tokenize(str_new)\n",
        "  return (tokens)"
      ],
      "execution_count": 0,
      "outputs": []
    },
    {
      "cell_type": "code",
      "metadata": {
        "id": "LQtc_aEPZZG3",
        "colab_type": "code",
        "colab": {}
      },
      "source": [
        "def remove(tokens):\n",
        "  removed = []\n",
        "  stopword = stopwords.words('english') \n",
        "  punctuations = '''!()-[]{};:'\"\\,<>./?@#$%^&*_~'''\n",
        "  for w in tokens:\n",
        "    if (w.lower() not in stopword and w.lower() not in punctuations):\n",
        "      removed.append(w.lower())\n",
        "  return (removed)"
      ],
      "execution_count": 0,
      "outputs": []
    },
    {
      "cell_type": "code",
      "metadata": {
        "id": "yy5PBuseiKbI",
        "colab_type": "code",
        "colab": {}
      },
      "source": [
        "def tag(removed):\n",
        "  pos = []\n",
        "  pos.append(nltk.pos_tag(removed))\n",
        "  return (pos)"
      ],
      "execution_count": 0,
      "outputs": []
    },
    {
      "cell_type": "code",
      "metadata": {
        "id": "TbiEMRP5GjJu",
        "colab_type": "code",
        "colab": {}
      },
      "source": [
        "def lemmatize(pos):\n",
        "  lem = WordNetLemmatizer()\n",
        "  lemma = []\n",
        "  for word in pos:\n",
        "    for w in word:\n",
        "      pos_value = \"\"\n",
        "      if (w[1].startswith('J')):\n",
        "        pos_value = wordnet.ADJ\n",
        "      elif (w[1].startswith('V')):\n",
        "        pos_value = wordnet.VERB\n",
        "      elif (w[1].startswith('N')):\n",
        "        pos_value = wordnet.NOUN\n",
        "      elif (w[1].startswith('R')):\n",
        "        pos_value = wordnet.ADV \n",
        "      else:\n",
        "        continue\n",
        "      lemma.append(lem.lemmatize(w[0],pos_value))\n",
        "  return (lemma)"
      ],
      "execution_count": 0,
      "outputs": []
    },
    {
      "cell_type": "code",
      "metadata": {
        "id": "NQGxkW3IvxvV",
        "colab_type": "code",
        "colab": {}
      },
      "source": [
        "def string(lemma):\n",
        "  str1 = ' '.join([elem for elem in lemma]) \n",
        "  return (str1)"
      ],
      "execution_count": 0,
      "outputs": []
    },
    {
      "cell_type": "code",
      "metadata": {
        "id": "Nzp0ZdhCMbg4",
        "colab_type": "code",
        "colab": {}
      },
      "source": [
        "def to_sent(sents):\n",
        "  doc = []\n",
        "  for sent in sents:\n",
        "    doc.append(sent)\n",
        "    return (doc)"
      ],
      "execution_count": 0,
      "outputs": []
    },
    {
      "cell_type": "code",
      "metadata": {
        "id": "RqY3hW24UFEs",
        "colab_type": "code",
        "colab": {}
      },
      "source": [
        "def TFiDF(doc):\n",
        "  vectorizer = TfidfVectorizer()\n",
        "  vectors = vectorizer.fit_transform(doc)\n",
        "  feature_names = vectorizer.get_feature_names()\n",
        "  dense = vectors.todense()\n",
        "  denselist = dense.tolist()\n",
        "  df = pd.DataFrame(denselist, columns=feature_names)\n",
        "  return (df)"
      ],
      "execution_count": 0,
      "outputs": []
    },
    {
      "cell_type": "code",
      "metadata": {
        "id": "K3otbqT_3rWx",
        "colab_type": "code",
        "colab": {}
      },
      "source": [
        "steps = [(\"text\", text()), (\"tokenize\", tokenize()), (\"remove\", remove()), (\"tag\", tag()), (\"lemmatize\", lemmatize()), (\"string\", string()), (\"to_sent\", to_sent()), (\"TFiDF\", TFiDF())]"
      ],
      "execution_count": 0,
      "outputs": []
    },
    {
      "cell_type": "code",
      "metadata": {
        "id": "8at2c1gLx3K8",
        "colab_type": "code",
        "colab": {}
      },
      "source": [
        "preprocess_pipeline = Pipeline(steps)"
      ],
      "execution_count": 0,
      "outputs": []
    },
    {
      "cell_type": "code",
      "metadata": {
        "id": "naCVQOsRyg40",
        "colab_type": "code",
        "colab": {}
      },
      "source": [
        "data = pd.read_csv(\"/content/Womens Clothing E-Commerce Reviews.csv\")"
      ],
      "execution_count": 0,
      "outputs": []
    },
    {
      "cell_type": "code",
      "metadata": {
        "id": "KxN9fMY44wIW",
        "colab_type": "code",
        "outputId": "86cf9aa0-29ac-4c8e-b285-cb5e018849b0",
        "colab": {
          "base_uri": "https://localhost:8080/",
          "height": 33
        }
      },
      "source": [
        "data.shape"
      ],
      "execution_count": 0,
      "outputs": [
        {
          "output_type": "execute_result",
          "data": {
            "text/plain": [
              "(20333, 11)"
            ]
          },
          "metadata": {
            "tags": []
          },
          "execution_count": 62
        }
      ]
    },
    {
      "cell_type": "code",
      "metadata": {
        "id": "snGUknQj41FC",
        "colab_type": "code",
        "outputId": "db3b4bd7-58ef-43d5-eec0-b835de4efd83",
        "colab": {
          "base_uri": "https://localhost:8080/",
          "height": 584
        }
      },
      "source": [
        "data.head()"
      ],
      "execution_count": 0,
      "outputs": [
        {
          "output_type": "execute_result",
          "data": {
            "text/html": [
              "<div>\n",
              "<style scoped>\n",
              "    .dataframe tbody tr th:only-of-type {\n",
              "        vertical-align: middle;\n",
              "    }\n",
              "\n",
              "    .dataframe tbody tr th {\n",
              "        vertical-align: top;\n",
              "    }\n",
              "\n",
              "    .dataframe thead th {\n",
              "        text-align: right;\n",
              "    }\n",
              "</style>\n",
              "<table border=\"1\" class=\"dataframe\">\n",
              "  <thead>\n",
              "    <tr style=\"text-align: right;\">\n",
              "      <th></th>\n",
              "      <th>Unnamed: 0</th>\n",
              "      <th>Clothing ID</th>\n",
              "      <th>Age</th>\n",
              "      <th>Title</th>\n",
              "      <th>Review Text</th>\n",
              "      <th>Rating</th>\n",
              "      <th>Recommended IND</th>\n",
              "      <th>Positive Feedback Count</th>\n",
              "      <th>Division Name</th>\n",
              "      <th>Department Name</th>\n",
              "      <th>Class Name</th>\n",
              "    </tr>\n",
              "  </thead>\n",
              "  <tbody>\n",
              "    <tr>\n",
              "      <th>0</th>\n",
              "      <td>0</td>\n",
              "      <td>767</td>\n",
              "      <td>33.0</td>\n",
              "      <td>NaN</td>\n",
              "      <td>Absolutely wonderful - silky and sexy and comf...</td>\n",
              "      <td>4.0</td>\n",
              "      <td>1.0</td>\n",
              "      <td>0.0</td>\n",
              "      <td>Initmates</td>\n",
              "      <td>Intimate</td>\n",
              "      <td>Intimates</td>\n",
              "    </tr>\n",
              "    <tr>\n",
              "      <th>1</th>\n",
              "      <td>1</td>\n",
              "      <td>1080</td>\n",
              "      <td>34.0</td>\n",
              "      <td>NaN</td>\n",
              "      <td>Love this dress!  it's sooo pretty.  i happene...</td>\n",
              "      <td>5.0</td>\n",
              "      <td>1.0</td>\n",
              "      <td>4.0</td>\n",
              "      <td>General</td>\n",
              "      <td>Dresses</td>\n",
              "      <td>Dresses</td>\n",
              "    </tr>\n",
              "    <tr>\n",
              "      <th>2</th>\n",
              "      <td>2</td>\n",
              "      <td>1077</td>\n",
              "      <td>60.0</td>\n",
              "      <td>Some major design flaws</td>\n",
              "      <td>I had such high hopes for this dress and reall...</td>\n",
              "      <td>3.0</td>\n",
              "      <td>0.0</td>\n",
              "      <td>0.0</td>\n",
              "      <td>General</td>\n",
              "      <td>Dresses</td>\n",
              "      <td>Dresses</td>\n",
              "    </tr>\n",
              "    <tr>\n",
              "      <th>3</th>\n",
              "      <td>3</td>\n",
              "      <td>1049</td>\n",
              "      <td>50.0</td>\n",
              "      <td>My favorite buy!</td>\n",
              "      <td>I love, love, love this jumpsuit. it's fun, fl...</td>\n",
              "      <td>5.0</td>\n",
              "      <td>1.0</td>\n",
              "      <td>0.0</td>\n",
              "      <td>General Petite</td>\n",
              "      <td>Bottoms</td>\n",
              "      <td>Pants</td>\n",
              "    </tr>\n",
              "    <tr>\n",
              "      <th>4</th>\n",
              "      <td>4</td>\n",
              "      <td>847</td>\n",
              "      <td>47.0</td>\n",
              "      <td>Flattering shirt</td>\n",
              "      <td>This shirt is very flattering to all due to th...</td>\n",
              "      <td>5.0</td>\n",
              "      <td>1.0</td>\n",
              "      <td>6.0</td>\n",
              "      <td>General</td>\n",
              "      <td>Tops</td>\n",
              "      <td>Blouses</td>\n",
              "    </tr>\n",
              "  </tbody>\n",
              "</table>\n",
              "</div>"
            ],
            "text/plain": [
              "   Unnamed: 0  Clothing ID   Age  ...   Division Name Department Name  Class Name\n",
              "0           0          767  33.0  ...       Initmates        Intimate   Intimates\n",
              "1           1         1080  34.0  ...         General         Dresses     Dresses\n",
              "2           2         1077  60.0  ...         General         Dresses     Dresses\n",
              "3           3         1049  50.0  ...  General Petite         Bottoms       Pants\n",
              "4           4          847  47.0  ...         General            Tops     Blouses\n",
              "\n",
              "[5 rows x 11 columns]"
            ]
          },
          "metadata": {
            "tags": []
          },
          "execution_count": 63
        }
      ]
    },
    {
      "cell_type": "code",
      "metadata": {
        "id": "Hgqndola42rC",
        "colab_type": "code",
        "colab": {}
      },
      "source": [
        "data.drop(\"Unnamed: 0\",1,inplace=True)"
      ],
      "execution_count": 0,
      "outputs": []
    },
    {
      "cell_type": "code",
      "metadata": {
        "id": "jrVK1x2748Nj",
        "colab_type": "code",
        "colab": {}
      },
      "source": [
        "data.fillna(\" \",inplace = True)"
      ],
      "execution_count": 0,
      "outputs": []
    },
    {
      "cell_type": "code",
      "metadata": {
        "id": "SvL5yAgV4-Nr",
        "colab_type": "code",
        "colab": {}
      },
      "source": [
        "data['Text'] = data['Title'].str.cat(data['Review Text'], sep =\" \") "
      ],
      "execution_count": 0,
      "outputs": []
    },
    {
      "cell_type": "code",
      "metadata": {
        "id": "OMPSAgVB5BbF",
        "colab_type": "code",
        "colab": {}
      },
      "source": [
        "data.drop([\"Title\", \"Review Text\"],1, inplace=True)"
      ],
      "execution_count": 0,
      "outputs": []
    },
    {
      "cell_type": "code",
      "metadata": {
        "id": "WMWLl_OD5JBE",
        "colab_type": "code",
        "colab": {}
      },
      "source": [
        "data.drop([\"Recommended IND\"],1, inplace=True)"
      ],
      "execution_count": 0,
      "outputs": []
    },
    {
      "cell_type": "code",
      "metadata": {
        "id": "clyC1aKw5K3S",
        "colab_type": "code",
        "colab": {}
      },
      "source": [
        "division = pd.get_dummies(data[\"Division Name\"])\n",
        "department = pd.get_dummies(data[\"Department Name\"])\n",
        "class_ = pd.get_dummies(data[\"Class Name\"])"
      ],
      "execution_count": 0,
      "outputs": []
    },
    {
      "cell_type": "code",
      "metadata": {
        "id": "KoLLHBzf5NdC",
        "colab_type": "code",
        "colab": {}
      },
      "source": [
        "division.drop([\" \"],1, inplace=True)\n",
        "department.drop([\" \"],1, inplace=True)\n",
        "class_.drop([\" \"],1, inplace=True)"
      ],
      "execution_count": 0,
      "outputs": []
    },
    {
      "cell_type": "code",
      "metadata": {
        "id": "G63H-A2R5POy",
        "colab_type": "code",
        "colab": {}
      },
      "source": [
        "data2 = pd.concat([data, division, department, class_],1)"
      ],
      "execution_count": 0,
      "outputs": []
    },
    {
      "cell_type": "code",
      "metadata": {
        "id": "nrsTtoMW5TTK",
        "colab_type": "code",
        "colab": {}
      },
      "source": [
        "data2.drop([\"Division Name\", \"Department Name\", \"Class Name\"],1, inplace = True)"
      ],
      "execution_count": 0,
      "outputs": []
    },
    {
      "cell_type": "code",
      "metadata": {
        "id": "6PKm0EtP5Vdq",
        "colab_type": "code",
        "outputId": "f63f8463-4bbc-4f44-80a3-6c2149ec8557",
        "colab": {
          "base_uri": "https://localhost:8080/",
          "height": 634
        }
      },
      "source": [
        "data2.head()"
      ],
      "execution_count": 0,
      "outputs": [
        {
          "output_type": "execute_result",
          "data": {
            "text/html": [
              "<div>\n",
              "<style scoped>\n",
              "    .dataframe tbody tr th:only-of-type {\n",
              "        vertical-align: middle;\n",
              "    }\n",
              "\n",
              "    .dataframe tbody tr th {\n",
              "        vertical-align: top;\n",
              "    }\n",
              "\n",
              "    .dataframe thead th {\n",
              "        text-align: right;\n",
              "    }\n",
              "</style>\n",
              "<table border=\"1\" class=\"dataframe\">\n",
              "  <thead>\n",
              "    <tr style=\"text-align: right;\">\n",
              "      <th></th>\n",
              "      <th>Clothing ID</th>\n",
              "      <th>Age</th>\n",
              "      <th>Rating</th>\n",
              "      <th>Positive Feedback Count</th>\n",
              "      <th>Text</th>\n",
              "      <th>General</th>\n",
              "      <th>General Petite</th>\n",
              "      <th>Initmates</th>\n",
              "      <th>Bottoms</th>\n",
              "      <th>Dresses</th>\n",
              "      <th>Intimate</th>\n",
              "      <th>Jackets</th>\n",
              "      <th>Tops</th>\n",
              "      <th>Trend</th>\n",
              "      <th>Blouses</th>\n",
              "      <th>Casual bottoms</th>\n",
              "      <th>Chemises</th>\n",
              "      <th>Dresses</th>\n",
              "      <th>Fine gauge</th>\n",
              "      <th>Intimates</th>\n",
              "      <th>Jackets</th>\n",
              "      <th>Jeans</th>\n",
              "      <th>Knits</th>\n",
              "      <th>Layering</th>\n",
              "      <th>Legwear</th>\n",
              "      <th>Lounge</th>\n",
              "      <th>Outerwear</th>\n",
              "      <th>Pants</th>\n",
              "      <th>Shorts</th>\n",
              "      <th>Skirts</th>\n",
              "      <th>Sleep</th>\n",
              "      <th>Sweaters</th>\n",
              "      <th>Swim</th>\n",
              "      <th>Trend</th>\n",
              "    </tr>\n",
              "  </thead>\n",
              "  <tbody>\n",
              "    <tr>\n",
              "      <th>0</th>\n",
              "      <td>767</td>\n",
              "      <td>33</td>\n",
              "      <td>4</td>\n",
              "      <td>0</td>\n",
              "      <td>Absolutely wonderful - silky and sexy and co...</td>\n",
              "      <td>0</td>\n",
              "      <td>0</td>\n",
              "      <td>1</td>\n",
              "      <td>0</td>\n",
              "      <td>0</td>\n",
              "      <td>1</td>\n",
              "      <td>0</td>\n",
              "      <td>0</td>\n",
              "      <td>0</td>\n",
              "      <td>0</td>\n",
              "      <td>0</td>\n",
              "      <td>0</td>\n",
              "      <td>0</td>\n",
              "      <td>0</td>\n",
              "      <td>1</td>\n",
              "      <td>0</td>\n",
              "      <td>0</td>\n",
              "      <td>0</td>\n",
              "      <td>0</td>\n",
              "      <td>0</td>\n",
              "      <td>0</td>\n",
              "      <td>0</td>\n",
              "      <td>0</td>\n",
              "      <td>0</td>\n",
              "      <td>0</td>\n",
              "      <td>0</td>\n",
              "      <td>0</td>\n",
              "      <td>0</td>\n",
              "      <td>0</td>\n",
              "    </tr>\n",
              "    <tr>\n",
              "      <th>1</th>\n",
              "      <td>1080</td>\n",
              "      <td>34</td>\n",
              "      <td>5</td>\n",
              "      <td>4</td>\n",
              "      <td>Love this dress!  it's sooo pretty.  i happe...</td>\n",
              "      <td>1</td>\n",
              "      <td>0</td>\n",
              "      <td>0</td>\n",
              "      <td>0</td>\n",
              "      <td>1</td>\n",
              "      <td>0</td>\n",
              "      <td>0</td>\n",
              "      <td>0</td>\n",
              "      <td>0</td>\n",
              "      <td>0</td>\n",
              "      <td>0</td>\n",
              "      <td>0</td>\n",
              "      <td>1</td>\n",
              "      <td>0</td>\n",
              "      <td>0</td>\n",
              "      <td>0</td>\n",
              "      <td>0</td>\n",
              "      <td>0</td>\n",
              "      <td>0</td>\n",
              "      <td>0</td>\n",
              "      <td>0</td>\n",
              "      <td>0</td>\n",
              "      <td>0</td>\n",
              "      <td>0</td>\n",
              "      <td>0</td>\n",
              "      <td>0</td>\n",
              "      <td>0</td>\n",
              "      <td>0</td>\n",
              "      <td>0</td>\n",
              "    </tr>\n",
              "    <tr>\n",
              "      <th>2</th>\n",
              "      <td>1077</td>\n",
              "      <td>60</td>\n",
              "      <td>3</td>\n",
              "      <td>0</td>\n",
              "      <td>Some major design flaws I had such high hopes ...</td>\n",
              "      <td>1</td>\n",
              "      <td>0</td>\n",
              "      <td>0</td>\n",
              "      <td>0</td>\n",
              "      <td>1</td>\n",
              "      <td>0</td>\n",
              "      <td>0</td>\n",
              "      <td>0</td>\n",
              "      <td>0</td>\n",
              "      <td>0</td>\n",
              "      <td>0</td>\n",
              "      <td>0</td>\n",
              "      <td>1</td>\n",
              "      <td>0</td>\n",
              "      <td>0</td>\n",
              "      <td>0</td>\n",
              "      <td>0</td>\n",
              "      <td>0</td>\n",
              "      <td>0</td>\n",
              "      <td>0</td>\n",
              "      <td>0</td>\n",
              "      <td>0</td>\n",
              "      <td>0</td>\n",
              "      <td>0</td>\n",
              "      <td>0</td>\n",
              "      <td>0</td>\n",
              "      <td>0</td>\n",
              "      <td>0</td>\n",
              "      <td>0</td>\n",
              "    </tr>\n",
              "    <tr>\n",
              "      <th>3</th>\n",
              "      <td>1049</td>\n",
              "      <td>50</td>\n",
              "      <td>5</td>\n",
              "      <td>0</td>\n",
              "      <td>My favorite buy! I love, love, love this jumps...</td>\n",
              "      <td>0</td>\n",
              "      <td>1</td>\n",
              "      <td>0</td>\n",
              "      <td>1</td>\n",
              "      <td>0</td>\n",
              "      <td>0</td>\n",
              "      <td>0</td>\n",
              "      <td>0</td>\n",
              "      <td>0</td>\n",
              "      <td>0</td>\n",
              "      <td>0</td>\n",
              "      <td>0</td>\n",
              "      <td>0</td>\n",
              "      <td>0</td>\n",
              "      <td>0</td>\n",
              "      <td>0</td>\n",
              "      <td>0</td>\n",
              "      <td>0</td>\n",
              "      <td>0</td>\n",
              "      <td>0</td>\n",
              "      <td>0</td>\n",
              "      <td>0</td>\n",
              "      <td>1</td>\n",
              "      <td>0</td>\n",
              "      <td>0</td>\n",
              "      <td>0</td>\n",
              "      <td>0</td>\n",
              "      <td>0</td>\n",
              "      <td>0</td>\n",
              "    </tr>\n",
              "    <tr>\n",
              "      <th>4</th>\n",
              "      <td>847</td>\n",
              "      <td>47</td>\n",
              "      <td>5</td>\n",
              "      <td>6</td>\n",
              "      <td>Flattering shirt This shirt is very flattering...</td>\n",
              "      <td>1</td>\n",
              "      <td>0</td>\n",
              "      <td>0</td>\n",
              "      <td>0</td>\n",
              "      <td>0</td>\n",
              "      <td>0</td>\n",
              "      <td>0</td>\n",
              "      <td>1</td>\n",
              "      <td>0</td>\n",
              "      <td>1</td>\n",
              "      <td>0</td>\n",
              "      <td>0</td>\n",
              "      <td>0</td>\n",
              "      <td>0</td>\n",
              "      <td>0</td>\n",
              "      <td>0</td>\n",
              "      <td>0</td>\n",
              "      <td>0</td>\n",
              "      <td>0</td>\n",
              "      <td>0</td>\n",
              "      <td>0</td>\n",
              "      <td>0</td>\n",
              "      <td>0</td>\n",
              "      <td>0</td>\n",
              "      <td>0</td>\n",
              "      <td>0</td>\n",
              "      <td>0</td>\n",
              "      <td>0</td>\n",
              "      <td>0</td>\n",
              "    </tr>\n",
              "  </tbody>\n",
              "</table>\n",
              "</div>"
            ],
            "text/plain": [
              "   Clothing ID Age Rating Positive Feedback Count  ... Sleep  Sweaters  Swim  Trend\n",
              "0          767  33      4                       0  ...     0         0     0      0\n",
              "1         1080  34      5                       4  ...     0         0     0      0\n",
              "2         1077  60      3                       0  ...     0         0     0      0\n",
              "3         1049  50      5                       0  ...     0         0     0      0\n",
              "4          847  47      5                       6  ...     0         0     0      0\n",
              "\n",
              "[5 rows x 34 columns]"
            ]
          },
          "metadata": {
            "tags": []
          },
          "execution_count": 74
        }
      ]
    },
    {
      "cell_type": "code",
      "metadata": {
        "id": "GoNiIHLG5XbK",
        "colab_type": "code",
        "outputId": "993c8748-e2a1-4063-bc32-e21e72bd6def",
        "colab": {
          "base_uri": "https://localhost:8080/",
          "height": 134
        }
      },
      "source": [
        "data2.columns"
      ],
      "execution_count": 0,
      "outputs": [
        {
          "output_type": "execute_result",
          "data": {
            "text/plain": [
              "Index(['Clothing ID', 'Age', 'Rating', 'Positive Feedback Count', 'Text',\n",
              "       'General', 'General Petite', 'Initmates', 'Bottoms', 'Dresses',\n",
              "       'Intimate', 'Jackets', 'Tops', 'Trend', 'Blouses', 'Casual bottoms',\n",
              "       'Chemises', 'Dresses', 'Fine gauge', 'Intimates', 'Jackets', 'Jeans',\n",
              "       'Knits', 'Layering', 'Legwear', 'Lounge', 'Outerwear', 'Pants',\n",
              "       'Shorts', 'Skirts', 'Sleep', 'Sweaters', 'Swim', 'Trend'],\n",
              "      dtype='object')"
            ]
          },
          "metadata": {
            "tags": []
          },
          "execution_count": 76
        }
      ]
    },
    {
      "cell_type": "code",
      "metadata": {
        "id": "9UL_1uqo5bNr",
        "colab_type": "code",
        "colab": {}
      },
      "source": [
        "preprocess_pipeline(data2[\"Text\"])"
      ],
      "execution_count": 0,
      "outputs": []
    },
    {
      "cell_type": "code",
      "metadata": {
        "id": "RtD8R6AWWyy-",
        "colab_type": "code",
        "colab": {}
      },
      "source": [
        "X_train, X_test, Y_train, Y_test = tts(X,Y,test_size = 0.25,random_state=42)"
      ],
      "execution_count": 0,
      "outputs": []
    },
    {
      "cell_type": "code",
      "metadata": {
        "id": "UxYQTPeAxWhq",
        "colab_type": "code",
        "colab": {}
      },
      "source": [
        "nmf_a = nmf(4, random_state = 42, alpha = 0.1, l1_ratio = 0.5, init = \"nndsvd\")"
      ],
      "execution_count": 0,
      "outputs": []
    },
    {
      "cell_type": "code",
      "metadata": {
        "id": "K55pcqxoxtyp",
        "colab_type": "code",
        "colab": {}
      },
      "source": [
        "nmf_a.fit()"
      ],
      "execution_count": 0,
      "outputs": []
    },
    {
      "cell_type": "code",
      "metadata": {
        "id": "yTzrMRhMW-5m",
        "colab_type": "code",
        "colab": {}
      },
      "source": [
        "model = GaussianNB()"
      ],
      "execution_count": 0,
      "outputs": []
    },
    {
      "cell_type": "code",
      "metadata": {
        "id": "Jtmmz6MxXBy3",
        "colab_type": "code",
        "outputId": "08d88e2c-5e9f-481e-de00-0b633a0fdea2",
        "colab": {
          "base_uri": "https://localhost:8080/",
          "height": 35
        }
      },
      "source": [
        "model.fit(X_train,Y_train)"
      ],
      "execution_count": 0,
      "outputs": [
        {
          "output_type": "execute_result",
          "data": {
            "text/plain": [
              "GaussianNB(priors=None, var_smoothing=1e-09)"
            ]
          },
          "metadata": {
            "tags": []
          },
          "execution_count": 57
        }
      ]
    },
    {
      "cell_type": "code",
      "metadata": {
        "id": "8h6GL2kCXEJj",
        "colab_type": "code",
        "colab": {}
      },
      "source": [
        "Y_pred = model.predict(X_test)"
      ],
      "execution_count": 0,
      "outputs": []
    },
    {
      "cell_type": "markdown",
      "metadata": {
        "id": "9QSSBQnt7qis",
        "colab_type": "text"
      },
      "source": [
        ""
      ]
    },
    {
      "cell_type": "code",
      "metadata": {
        "id": "Hqayq0GPXKRa",
        "colab_type": "code",
        "outputId": "3f1e56cf-7e9d-41ef-deeb-89134d4590ac",
        "colab": {
          "base_uri": "https://localhost:8080/",
          "height": 230
        }
      },
      "source": [
        "print(classification_report(Y_test,Y_pred))"
      ],
      "execution_count": 0,
      "outputs": [
        {
          "output_type": "stream",
          "text": [
            "              precision    recall  f1-score   support\n",
            "\n",
            "           1       0.05      0.39      0.08       194\n",
            "           2       0.08      0.20      0.11       407\n",
            "           3       0.13      0.17      0.15       766\n",
            "           4       0.21      0.18      0.20      1259\n",
            "           5       0.61      0.20      0.30      3246\n",
            "\n",
            "    accuracy                           0.20      5872\n",
            "   macro avg       0.22      0.23      0.17      5872\n",
            "weighted avg       0.41      0.20      0.24      5872\n",
            "\n"
          ],
          "name": "stdout"
        }
      ]
    },
    {
      "cell_type": "code",
      "metadata": {
        "id": "gQNiLSPnXglv",
        "colab_type": "code",
        "colab": {}
      },
      "source": [
        "log = LogisticRegression()"
      ],
      "execution_count": 0,
      "outputs": []
    },
    {
      "cell_type": "code",
      "metadata": {
        "id": "KAZsvUGHXmP4",
        "colab_type": "code",
        "outputId": "3bcde2d4-c80f-4921-a5ee-eaa198382c1c",
        "colab": {
          "base_uri": "https://localhost:8080/",
          "height": 248
        }
      },
      "source": [
        "log.fit(X_train,Y_train)"
      ],
      "execution_count": 0,
      "outputs": [
        {
          "output_type": "stream",
          "text": [
            "/usr/local/lib/python3.6/dist-packages/sklearn/linear_model/_logistic.py:940: ConvergenceWarning: lbfgs failed to converge (status=1):\n",
            "STOP: TOTAL NO. of ITERATIONS REACHED LIMIT.\n",
            "\n",
            "Increase the number of iterations (max_iter) or scale the data as shown in:\n",
            "    https://scikit-learn.org/stable/modules/preprocessing.html\n",
            "Please also refer to the documentation for alternative solver options:\n",
            "    https://scikit-learn.org/stable/modules/linear_model.html#logistic-regression\n",
            "  extra_warning_msg=_LOGISTIC_SOLVER_CONVERGENCE_MSG)\n"
          ],
          "name": "stderr"
        },
        {
          "output_type": "execute_result",
          "data": {
            "text/plain": [
              "LogisticRegression(C=1.0, class_weight=None, dual=False, fit_intercept=True,\n",
              "                   intercept_scaling=1, l1_ratio=None, max_iter=100,\n",
              "                   multi_class='auto', n_jobs=None, penalty='l2',\n",
              "                   random_state=None, solver='lbfgs', tol=0.0001, verbose=0,\n",
              "                   warm_start=False)"
            ]
          },
          "metadata": {
            "tags": []
          },
          "execution_count": 63
        }
      ]
    },
    {
      "cell_type": "code",
      "metadata": {
        "id": "BWTIy3rUXu3U",
        "colab_type": "code",
        "colab": {}
      },
      "source": [
        "Y_pred1 = log.predict(X_test)"
      ],
      "execution_count": 0,
      "outputs": []
    },
    {
      "cell_type": "code",
      "metadata": {
        "id": "ZTCfSD3VX5Et",
        "colab_type": "code",
        "outputId": "19bf4223-5c92-4f50-9937-d11da706cd4a",
        "colab": {
          "base_uri": "https://localhost:8080/",
          "height": 286
        }
      },
      "source": [
        "print(classification_report(Y_test,Y_pred1))"
      ],
      "execution_count": 0,
      "outputs": [
        {
          "output_type": "stream",
          "text": [
            "              precision    recall  f1-score   support\n",
            "\n",
            "           1       0.00      0.00      0.00       194\n",
            "           2       0.12      0.00      0.00       407\n",
            "           3       0.53      0.01      0.02       766\n",
            "           4       0.29      0.11      0.16      1259\n",
            "           5       0.58      0.96      0.72      3246\n",
            "\n",
            "    accuracy                           0.56      5872\n",
            "   macro avg       0.31      0.22      0.18      5872\n",
            "weighted avg       0.46      0.56      0.44      5872\n",
            "\n"
          ],
          "name": "stdout"
        },
        {
          "output_type": "stream",
          "text": [
            "/usr/local/lib/python3.6/dist-packages/sklearn/metrics/_classification.py:1272: UndefinedMetricWarning: Precision and F-score are ill-defined and being set to 0.0 in labels with no predicted samples. Use `zero_division` parameter to control this behavior.\n",
            "  _warn_prf(average, modifier, msg_start, len(result))\n"
          ],
          "name": "stderr"
        }
      ]
    },
    {
      "cell_type": "code",
      "metadata": {
        "id": "Cv1zLeAL5znV",
        "colab_type": "code",
        "colab": {}
      },
      "source": [
        ""
      ],
      "execution_count": 0,
      "outputs": []
    }
  ]
}
