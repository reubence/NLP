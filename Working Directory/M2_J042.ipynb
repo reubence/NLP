{
  "nbformat": 4,
  "nbformat_minor": 0,
  "metadata": {
    "language_info": {
      "name": "python",
      "version": "3.6.6",
      "mimetype": "text/x-python",
      "codemirror_mode": {
        "name": "ipython",
        "version": 3
      },
      "pygments_lexer": "ipython3",
      "nbconvert_exporter": "python",
      "file_extension": ".py"
    },
    "kernelspec": {
      "name": "python3",
      "display_name": "Python 3"
    },
    "colab": {
      "name": "M2 - J042.ipynb",
      "provenance": [],
      "collapsed_sections": []
    },
    "accelerator": "TPU"
  },
  "cells": [
    {
      "cell_type": "markdown",
      "metadata": {
        "id": "FQwrJmFQhirq",
        "colab_type": "text"
      },
      "source": [
        "#Download and Unzip Dataset\n",
        "#Install Libraries"
      ]
    },
    {
      "cell_type": "code",
      "metadata": {
        "id": "_P6zX5tbCfNY",
        "colab_type": "code",
        "outputId": "ae66e2db-ae2d-4410-fcd6-acecbc7c99db",
        "colab": {
          "base_uri": "https://localhost:8080/",
          "height": 505
        }
      },
      "source": [
        "! wget https://github.com/amsurve/J050_sem6_nlp/blob/master/datasets/10k-german-news-articles.zip?raw=true\n",
        "! mkdir news\n",
        "! unzip 10k-german-news-articles.zip?raw=true -d news"
      ],
      "execution_count": 1,
      "outputs": [
        {
          "output_type": "stream",
          "text": [
            "--2020-03-03 18:14:32--  https://github.com/amsurve/J050_sem6_nlp/blob/master/datasets/10k-german-news-articles.zip?raw=true\n",
            "Resolving github.com (github.com)... 192.30.253.113\n",
            "Connecting to github.com (github.com)|192.30.253.113|:443... connected.\n",
            "HTTP request sent, awaiting response... 302 Found\n",
            "Location: https://github.com/amsurve/J050_sem6_nlp/raw/master/datasets/10k-german-news-articles.zip [following]\n",
            "--2020-03-03 18:14:32--  https://github.com/amsurve/J050_sem6_nlp/raw/master/datasets/10k-german-news-articles.zip\n",
            "Reusing existing connection to github.com:443.\n",
            "HTTP request sent, awaiting response... 302 Found\n",
            "Location: https://media.githubusercontent.com/media/amsurve/J050_sem6_nlp/master/datasets/10k-german-news-articles.zip [following]\n",
            "--2020-03-03 18:14:32--  https://media.githubusercontent.com/media/amsurve/J050_sem6_nlp/master/datasets/10k-german-news-articles.zip\n",
            "Resolving media.githubusercontent.com (media.githubusercontent.com)... 151.101.0.133, 151.101.64.133, 151.101.128.133, ...\n",
            "Connecting to media.githubusercontent.com (media.githubusercontent.com)|151.101.0.133|:443... connected.\n",
            "HTTP request sent, awaiting response... 200 OK\n",
            "Length: 128989980 (123M) [application/zip]\n",
            "Saving to: ‘10k-german-news-articles.zip?raw=true’\n",
            "\n",
            "10k-german-news-art 100%[===================>] 123.01M   120MB/s    in 1.0s    \n",
            "\n",
            "2020-03-03 18:14:33 (120 MB/s) - ‘10k-german-news-articles.zip?raw=true’ saved [128989980/128989980]\n",
            "\n",
            "Archive:  10k-german-news-articles.zip?raw=true\n",
            "  inflating: news/Annotations.csv    \n",
            "  inflating: news/Annotations_consolidated.csv  \n",
            "  inflating: news/Articles.csv       \n",
            "  inflating: news/Categories.csv     \n",
            "  inflating: news/CrossValSplit.csv  \n",
            "  inflating: news/Newspaper_Staff.csv  \n",
            "  inflating: news/Posts.csv          \n"
          ],
          "name": "stdout"
        }
      ]
    },
    {
      "cell_type": "code",
      "metadata": {
        "id": "6Y-oAGrARu9X",
        "colab_type": "code",
        "colab": {
          "base_uri": "https://localhost:8080/",
          "height": 622
        },
        "outputId": "aa92baaf-a167-4b59-8bf1-b42b7bcd2422"
      },
      "source": [
        "!pip install pyLDAvis"
      ],
      "execution_count": 2,
      "outputs": [
        {
          "output_type": "stream",
          "text": [
            "Collecting pyLDAvis\n",
            "\u001b[?25l  Downloading https://files.pythonhosted.org/packages/a5/3a/af82e070a8a96e13217c8f362f9a73e82d61ac8fff3a2561946a97f96266/pyLDAvis-2.1.2.tar.gz (1.6MB)\n",
            "\r\u001b[K     |▏                               | 10kB 18.8MB/s eta 0:00:01\r\u001b[K     |▍                               | 20kB 2.2MB/s eta 0:00:01\r\u001b[K     |▋                               | 30kB 3.2MB/s eta 0:00:01\r\u001b[K     |▉                               | 40kB 2.1MB/s eta 0:00:01\r\u001b[K     |█                               | 51kB 2.6MB/s eta 0:00:01\r\u001b[K     |█▏                              | 61kB 3.1MB/s eta 0:00:01\r\u001b[K     |█▍                              | 71kB 3.6MB/s eta 0:00:01\r\u001b[K     |█▋                              | 81kB 4.1MB/s eta 0:00:01\r\u001b[K     |█▉                              | 92kB 4.5MB/s eta 0:00:01\r\u001b[K     |██                              | 102kB 3.5MB/s eta 0:00:01\r\u001b[K     |██▎                             | 112kB 3.5MB/s eta 0:00:01\r\u001b[K     |██▍                             | 122kB 3.5MB/s eta 0:00:01\r\u001b[K     |██▋                             | 133kB 3.5MB/s eta 0:00:01\r\u001b[K     |██▉                             | 143kB 3.5MB/s eta 0:00:01\r\u001b[K     |███                             | 153kB 3.5MB/s eta 0:00:01\r\u001b[K     |███▎                            | 163kB 3.5MB/s eta 0:00:01\r\u001b[K     |███▌                            | 174kB 3.5MB/s eta 0:00:01\r\u001b[K     |███▋                            | 184kB 3.5MB/s eta 0:00:01\r\u001b[K     |███▉                            | 194kB 3.5MB/s eta 0:00:01\r\u001b[K     |████                            | 204kB 3.5MB/s eta 0:00:01\r\u001b[K     |████▎                           | 215kB 3.5MB/s eta 0:00:01\r\u001b[K     |████▌                           | 225kB 3.5MB/s eta 0:00:01\r\u001b[K     |████▊                           | 235kB 3.5MB/s eta 0:00:01\r\u001b[K     |████▉                           | 245kB 3.5MB/s eta 0:00:01\r\u001b[K     |█████                           | 256kB 3.5MB/s eta 0:00:01\r\u001b[K     |█████▎                          | 266kB 3.5MB/s eta 0:00:01\r\u001b[K     |█████▌                          | 276kB 3.5MB/s eta 0:00:01\r\u001b[K     |█████▊                          | 286kB 3.5MB/s eta 0:00:01\r\u001b[K     |█████▉                          | 296kB 3.5MB/s eta 0:00:01\r\u001b[K     |██████                          | 307kB 3.5MB/s eta 0:00:01\r\u001b[K     |██████▎                         | 317kB 3.5MB/s eta 0:00:01\r\u001b[K     |██████▌                         | 327kB 3.5MB/s eta 0:00:01\r\u001b[K     |██████▊                         | 337kB 3.5MB/s eta 0:00:01\r\u001b[K     |███████                         | 348kB 3.5MB/s eta 0:00:01\r\u001b[K     |███████                         | 358kB 3.5MB/s eta 0:00:01\r\u001b[K     |███████▎                        | 368kB 3.5MB/s eta 0:00:01\r\u001b[K     |███████▌                        | 378kB 3.5MB/s eta 0:00:01\r\u001b[K     |███████▊                        | 389kB 3.5MB/s eta 0:00:01\r\u001b[K     |████████                        | 399kB 3.5MB/s eta 0:00:01\r\u001b[K     |████████▏                       | 409kB 3.5MB/s eta 0:00:01\r\u001b[K     |████████▎                       | 419kB 3.5MB/s eta 0:00:01\r\u001b[K     |████████▌                       | 430kB 3.5MB/s eta 0:00:01\r\u001b[K     |████████▊                       | 440kB 3.5MB/s eta 0:00:01\r\u001b[K     |█████████                       | 450kB 3.5MB/s eta 0:00:01\r\u001b[K     |█████████▏                      | 460kB 3.5MB/s eta 0:00:01\r\u001b[K     |█████████▍                      | 471kB 3.5MB/s eta 0:00:01\r\u001b[K     |█████████▌                      | 481kB 3.5MB/s eta 0:00:01\r\u001b[K     |█████████▊                      | 491kB 3.5MB/s eta 0:00:01\r\u001b[K     |██████████                      | 501kB 3.5MB/s eta 0:00:01\r\u001b[K     |██████████▏                     | 512kB 3.5MB/s eta 0:00:01\r\u001b[K     |██████████▍                     | 522kB 3.5MB/s eta 0:00:01\r\u001b[K     |██████████▋                     | 532kB 3.5MB/s eta 0:00:01\r\u001b[K     |██████████▊                     | 542kB 3.5MB/s eta 0:00:01\r\u001b[K     |███████████                     | 552kB 3.5MB/s eta 0:00:01\r\u001b[K     |███████████▏                    | 563kB 3.5MB/s eta 0:00:01\r\u001b[K     |███████████▍                    | 573kB 3.5MB/s eta 0:00:01\r\u001b[K     |███████████▋                    | 583kB 3.5MB/s eta 0:00:01\r\u001b[K     |███████████▊                    | 593kB 3.5MB/s eta 0:00:01\r\u001b[K     |████████████                    | 604kB 3.5MB/s eta 0:00:01\r\u001b[K     |████████████▏                   | 614kB 3.5MB/s eta 0:00:01\r\u001b[K     |████████████▍                   | 624kB 3.5MB/s eta 0:00:01\r\u001b[K     |████████████▋                   | 634kB 3.5MB/s eta 0:00:01\r\u001b[K     |████████████▉                   | 645kB 3.5MB/s eta 0:00:01\r\u001b[K     |█████████████                   | 655kB 3.5MB/s eta 0:00:01\r\u001b[K     |█████████████▏                  | 665kB 3.5MB/s eta 0:00:01\r\u001b[K     |█████████████▍                  | 675kB 3.5MB/s eta 0:00:01\r\u001b[K     |█████████████▋                  | 686kB 3.5MB/s eta 0:00:01\r\u001b[K     |█████████████▉                  | 696kB 3.5MB/s eta 0:00:01\r\u001b[K     |██████████████                  | 706kB 3.5MB/s eta 0:00:01\r\u001b[K     |██████████████▏                 | 716kB 3.5MB/s eta 0:00:01\r\u001b[K     |██████████████▍                 | 727kB 3.5MB/s eta 0:00:01\r\u001b[K     |██████████████▋                 | 737kB 3.5MB/s eta 0:00:01\r\u001b[K     |██████████████▉                 | 747kB 3.5MB/s eta 0:00:01\r\u001b[K     |███████████████                 | 757kB 3.5MB/s eta 0:00:01\r\u001b[K     |███████████████▎                | 768kB 3.5MB/s eta 0:00:01\r\u001b[K     |███████████████▍                | 778kB 3.5MB/s eta 0:00:01\r\u001b[K     |███████████████▋                | 788kB 3.5MB/s eta 0:00:01\r\u001b[K     |███████████████▉                | 798kB 3.5MB/s eta 0:00:01\r\u001b[K     |████████████████                | 808kB 3.5MB/s eta 0:00:01\r\u001b[K     |████████████████▎               | 819kB 3.5MB/s eta 0:00:01\r\u001b[K     |████████████████▌               | 829kB 3.5MB/s eta 0:00:01\r\u001b[K     |████████████████▋               | 839kB 3.5MB/s eta 0:00:01\r\u001b[K     |████████████████▉               | 849kB 3.5MB/s eta 0:00:01\r\u001b[K     |█████████████████               | 860kB 3.5MB/s eta 0:00:01\r\u001b[K     |█████████████████▎              | 870kB 3.5MB/s eta 0:00:01\r\u001b[K     |█████████████████▌              | 880kB 3.5MB/s eta 0:00:01\r\u001b[K     |█████████████████▋              | 890kB 3.5MB/s eta 0:00:01\r\u001b[K     |█████████████████▉              | 901kB 3.5MB/s eta 0:00:01\r\u001b[K     |██████████████████              | 911kB 3.5MB/s eta 0:00:01\r\u001b[K     |██████████████████▎             | 921kB 3.5MB/s eta 0:00:01\r\u001b[K     |██████████████████▌             | 931kB 3.5MB/s eta 0:00:01\r\u001b[K     |██████████████████▊             | 942kB 3.5MB/s eta 0:00:01\r\u001b[K     |██████████████████▉             | 952kB 3.5MB/s eta 0:00:01\r\u001b[K     |███████████████████             | 962kB 3.5MB/s eta 0:00:01\r\u001b[K     |███████████████████▎            | 972kB 3.5MB/s eta 0:00:01\r\u001b[K     |███████████████████▌            | 983kB 3.5MB/s eta 0:00:01\r\u001b[K     |███████████████████▊            | 993kB 3.5MB/s eta 0:00:01\r\u001b[K     |████████████████████            | 1.0MB 3.5MB/s eta 0:00:01\r\u001b[K     |████████████████████            | 1.0MB 3.5MB/s eta 0:00:01\r\u001b[K     |████████████████████▎           | 1.0MB 3.5MB/s eta 0:00:01\r\u001b[K     |████████████████████▌           | 1.0MB 3.5MB/s eta 0:00:01\r\u001b[K     |████████████████████▊           | 1.0MB 3.5MB/s eta 0:00:01\r\u001b[K     |█████████████████████           | 1.1MB 3.5MB/s eta 0:00:01\r\u001b[K     |█████████████████████▏          | 1.1MB 3.5MB/s eta 0:00:01\r\u001b[K     |█████████████████████▎          | 1.1MB 3.5MB/s eta 0:00:01\r\u001b[K     |█████████████████████▌          | 1.1MB 3.5MB/s eta 0:00:01\r\u001b[K     |█████████████████████▊          | 1.1MB 3.5MB/s eta 0:00:01\r\u001b[K     |██████████████████████          | 1.1MB 3.5MB/s eta 0:00:01\r\u001b[K     |██████████████████████▏         | 1.1MB 3.5MB/s eta 0:00:01\r\u001b[K     |██████████████████████▍         | 1.1MB 3.5MB/s eta 0:00:01\r\u001b[K     |██████████████████████▌         | 1.1MB 3.5MB/s eta 0:00:01\r\u001b[K     |██████████████████████▊         | 1.1MB 3.5MB/s eta 0:00:01\r\u001b[K     |███████████████████████         | 1.2MB 3.5MB/s eta 0:00:01\r\u001b[K     |███████████████████████▏        | 1.2MB 3.5MB/s eta 0:00:01\r\u001b[K     |███████████████████████▍        | 1.2MB 3.5MB/s eta 0:00:01\r\u001b[K     |███████████████████████▌        | 1.2MB 3.5MB/s eta 0:00:01\r\u001b[K     |███████████████████████▊        | 1.2MB 3.5MB/s eta 0:00:01\r\u001b[K     |████████████████████████        | 1.2MB 3.5MB/s eta 0:00:01\r\u001b[K     |████████████████████████▏       | 1.2MB 3.5MB/s eta 0:00:01\r\u001b[K     |████████████████████████▍       | 1.2MB 3.5MB/s eta 0:00:01\r\u001b[K     |████████████████████████▋       | 1.2MB 3.5MB/s eta 0:00:01\r\u001b[K     |████████████████████████▊       | 1.2MB 3.5MB/s eta 0:00:01\r\u001b[K     |█████████████████████████       | 1.3MB 3.5MB/s eta 0:00:01\r\u001b[K     |█████████████████████████▏      | 1.3MB 3.5MB/s eta 0:00:01\r\u001b[K     |█████████████████████████▍      | 1.3MB 3.5MB/s eta 0:00:01\r\u001b[K     |█████████████████████████▋      | 1.3MB 3.5MB/s eta 0:00:01\r\u001b[K     |█████████████████████████▉      | 1.3MB 3.5MB/s eta 0:00:01\r\u001b[K     |██████████████████████████      | 1.3MB 3.5MB/s eta 0:00:01\r\u001b[K     |██████████████████████████▏     | 1.3MB 3.5MB/s eta 0:00:01\r\u001b[K     |██████████████████████████▍     | 1.3MB 3.5MB/s eta 0:00:01\r\u001b[K     |██████████████████████████▋     | 1.3MB 3.5MB/s eta 0:00:01\r\u001b[K     |██████████████████████████▉     | 1.4MB 3.5MB/s eta 0:00:01\r\u001b[K     |███████████████████████████     | 1.4MB 3.5MB/s eta 0:00:01\r\u001b[K     |███████████████████████████▏    | 1.4MB 3.5MB/s eta 0:00:01\r\u001b[K     |███████████████████████████▍    | 1.4MB 3.5MB/s eta 0:00:01\r\u001b[K     |███████████████████████████▋    | 1.4MB 3.5MB/s eta 0:00:01\r\u001b[K     |███████████████████████████▉    | 1.4MB 3.5MB/s eta 0:00:01\r\u001b[K     |████████████████████████████    | 1.4MB 3.5MB/s eta 0:00:01\r\u001b[K     |████████████████████████████▏   | 1.4MB 3.5MB/s eta 0:00:01\r\u001b[K     |████████████████████████████▍   | 1.4MB 3.5MB/s eta 0:00:01\r\u001b[K     |████████████████████████████▋   | 1.4MB 3.5MB/s eta 0:00:01\r\u001b[K     |████████████████████████████▉   | 1.5MB 3.5MB/s eta 0:00:01\r\u001b[K     |█████████████████████████████   | 1.5MB 3.5MB/s eta 0:00:01\r\u001b[K     |█████████████████████████████▎  | 1.5MB 3.5MB/s eta 0:00:01\r\u001b[K     |█████████████████████████████▍  | 1.5MB 3.5MB/s eta 0:00:01\r\u001b[K     |█████████████████████████████▋  | 1.5MB 3.5MB/s eta 0:00:01\r\u001b[K     |█████████████████████████████▉  | 1.5MB 3.5MB/s eta 0:00:01\r\u001b[K     |██████████████████████████████  | 1.5MB 3.5MB/s eta 0:00:01\r\u001b[K     |██████████████████████████████▎ | 1.5MB 3.5MB/s eta 0:00:01\r\u001b[K     |██████████████████████████████▌ | 1.5MB 3.5MB/s eta 0:00:01\r\u001b[K     |██████████████████████████████▋ | 1.5MB 3.5MB/s eta 0:00:01\r\u001b[K     |██████████████████████████████▉ | 1.6MB 3.5MB/s eta 0:00:01\r\u001b[K     |███████████████████████████████ | 1.6MB 3.5MB/s eta 0:00:01\r\u001b[K     |███████████████████████████████▎| 1.6MB 3.5MB/s eta 0:00:01\r\u001b[K     |███████████████████████████████▌| 1.6MB 3.5MB/s eta 0:00:01\r\u001b[K     |███████████████████████████████▊| 1.6MB 3.5MB/s eta 0:00:01\r\u001b[K     |███████████████████████████████▉| 1.6MB 3.5MB/s eta 0:00:01\r\u001b[K     |████████████████████████████████| 1.6MB 3.5MB/s \n",
            "\u001b[?25hRequirement already satisfied: wheel>=0.23.0 in /usr/local/lib/python3.6/dist-packages (from pyLDAvis) (0.34.2)\n",
            "Requirement already satisfied: numpy>=1.9.2 in /usr/local/lib/python3.6/dist-packages (from pyLDAvis) (1.17.5)\n",
            "Requirement already satisfied: scipy>=0.18.0 in /usr/local/lib/python3.6/dist-packages (from pyLDAvis) (1.4.1)\n",
            "Requirement already satisfied: pandas>=0.17.0 in /usr/local/lib/python3.6/dist-packages (from pyLDAvis) (0.25.3)\n",
            "Requirement already satisfied: joblib>=0.8.4 in /usr/local/lib/python3.6/dist-packages (from pyLDAvis) (0.14.1)\n",
            "Requirement already satisfied: jinja2>=2.7.2 in /usr/local/lib/python3.6/dist-packages (from pyLDAvis) (2.11.1)\n",
            "Requirement already satisfied: numexpr in /usr/local/lib/python3.6/dist-packages (from pyLDAvis) (2.7.1)\n",
            "Requirement already satisfied: pytest in /usr/local/lib/python3.6/dist-packages (from pyLDAvis) (3.6.4)\n",
            "Requirement already satisfied: future in /usr/local/lib/python3.6/dist-packages (from pyLDAvis) (0.16.0)\n",
            "Collecting funcy\n",
            "\u001b[?25l  Downloading https://files.pythonhosted.org/packages/ce/4b/6ffa76544e46614123de31574ad95758c421aae391a1764921b8a81e1eae/funcy-1.14.tar.gz (548kB)\n",
            "\u001b[K     |████████████████████████████████| 552kB 44.2MB/s \n",
            "\u001b[?25hRequirement already satisfied: pytz>=2017.2 in /usr/local/lib/python3.6/dist-packages (from pandas>=0.17.0->pyLDAvis) (2018.9)\n",
            "Requirement already satisfied: python-dateutil>=2.6.1 in /usr/local/lib/python3.6/dist-packages (from pandas>=0.17.0->pyLDAvis) (2.6.1)\n",
            "Requirement already satisfied: MarkupSafe>=0.23 in /usr/local/lib/python3.6/dist-packages (from jinja2>=2.7.2->pyLDAvis) (1.1.1)\n",
            "Requirement already satisfied: setuptools in /usr/local/lib/python3.6/dist-packages (from pytest->pyLDAvis) (45.1.0)\n",
            "Requirement already satisfied: pluggy<0.8,>=0.5 in /usr/local/lib/python3.6/dist-packages (from pytest->pyLDAvis) (0.7.1)\n",
            "Requirement already satisfied: more-itertools>=4.0.0 in /usr/local/lib/python3.6/dist-packages (from pytest->pyLDAvis) (8.2.0)\n",
            "Requirement already satisfied: py>=1.5.0 in /usr/local/lib/python3.6/dist-packages (from pytest->pyLDAvis) (1.8.1)\n",
            "Requirement already satisfied: six>=1.10.0 in /usr/local/lib/python3.6/dist-packages (from pytest->pyLDAvis) (1.12.0)\n",
            "Requirement already satisfied: atomicwrites>=1.0 in /usr/local/lib/python3.6/dist-packages (from pytest->pyLDAvis) (1.3.0)\n",
            "Requirement already satisfied: attrs>=17.4.0 in /usr/local/lib/python3.6/dist-packages (from pytest->pyLDAvis) (19.3.0)\n",
            "Building wheels for collected packages: pyLDAvis, funcy\n",
            "  Building wheel for pyLDAvis (setup.py) ... \u001b[?25l\u001b[?25hdone\n",
            "  Created wheel for pyLDAvis: filename=pyLDAvis-2.1.2-py2.py3-none-any.whl size=97711 sha256=c7dc29f61a333ad42b4f0d5d4e8235148ec17d0359fcb0bbbabad7e5d20bcdd4\n",
            "  Stored in directory: /root/.cache/pip/wheels/98/71/24/513a99e58bb6b8465bae4d2d5e9dba8f0bef8179e3051ac414\n",
            "  Building wheel for funcy (setup.py) ... \u001b[?25l\u001b[?25hdone\n",
            "  Created wheel for funcy: filename=funcy-1.14-py2.py3-none-any.whl size=32042 sha256=1e0f1067e34ffe8159ad9f81abf62faa3f488d50d4d8982f225e63f7a1ae116b\n",
            "  Stored in directory: /root/.cache/pip/wheels/20/5a/d8/1d875df03deae6f178dfdf70238cca33f948ef8a6f5209f2eb\n",
            "Successfully built pyLDAvis funcy\n",
            "Installing collected packages: funcy, pyLDAvis\n",
            "Successfully installed funcy-1.14 pyLDAvis-2.1.2\n"
          ],
          "name": "stdout"
        }
      ]
    },
    {
      "cell_type": "code",
      "metadata": {
        "_kg_hide-input": false,
        "trusted": true,
        "id": "Bl6yir2uA3t7",
        "colab_type": "code",
        "colab": {
          "base_uri": "https://localhost:8080/",
          "height": 100
        },
        "outputId": "88d3e85c-8ea8-4d3a-cbd1-690ed0fc744d"
      },
      "source": [
        "from mpl_toolkits.mplot3d import Axes3D\n",
        "from sklearn.preprocessing import StandardScaler\n",
        "import matplotlib.pyplot as plt\n",
        "import numpy as np\n",
        "import os\n",
        "import pandas as pd\n",
        "import re\n",
        "from nltk.corpus import stopwords\n",
        "from nltk.tokenize import WordPunctTokenizer\n",
        "import nltk\n",
        "from sklearn.feature_extraction.text import TfidfVectorizer\n",
        "import warnings\n",
        "from sklearn.decomposition import LatentDirichletAllocation as LDA\n",
        "import scipy\n",
        "warnings.simplefilter(\"ignore\", DeprecationWarning)\n",
        "nltk.download('stopwords')\n",
        "nltk.download('punkt')"
      ],
      "execution_count": 3,
      "outputs": [
        {
          "output_type": "stream",
          "text": [
            "[nltk_data] Downloading package stopwords to /root/nltk_data...\n",
            "[nltk_data]   Unzipping corpora/stopwords.zip.\n",
            "[nltk_data] Downloading package punkt to /root/nltk_data...\n",
            "[nltk_data]   Unzipping tokenizers/punkt.zip.\n"
          ],
          "name": "stdout"
        },
        {
          "output_type": "execute_result",
          "data": {
            "text/plain": [
              "True"
            ]
          },
          "metadata": {
            "tags": []
          },
          "execution_count": 3
        }
      ]
    },
    {
      "cell_type": "code",
      "metadata": {
        "_kg_hide-input": false,
        "trusted": true,
        "id": "0UTVNU9zA3uA",
        "colab_type": "code",
        "outputId": "e1a17dff-b0b9-4839-ceea-c20262fd64db",
        "colab": {
          "base_uri": "https://localhost:8080/",
          "height": 134
        }
      },
      "source": [
        "for dirname, _, filenames in os.walk('/content/news'):\n",
        "    for filename in filenames:\n",
        "        print(os.path.join(dirname, filename))"
      ],
      "execution_count": 4,
      "outputs": [
        {
          "output_type": "stream",
          "text": [
            "/content/news/CrossValSplit.csv\n",
            "/content/news/Newspaper_Staff.csv\n",
            "/content/news/Annotations_consolidated.csv\n",
            "/content/news/Articles.csv\n",
            "/content/news/Posts.csv\n",
            "/content/news/Annotations.csv\n",
            "/content/news/Categories.csv\n"
          ],
          "name": "stdout"
        }
      ]
    },
    {
      "cell_type": "code",
      "metadata": {
        "trusted": true,
        "id": "JKR5wkfJA3uE",
        "colab_type": "code",
        "colab": {}
      },
      "source": [
        "n=None\n",
        "annotations_consol = pd.read_csv(\"/content/news/Annotations_consolidated.csv\", nrows=n)\n",
        "articles = pd.read_csv(\"/content/news/Articles.csv\", nrows=n)\n",
        "cat = pd.read_csv(\"/content/news/Categories.csv\", nrows=n)\n",
        "posts = pd.read_csv(\"/content/news/Posts.csv\", nrows=n)\n",
        "crossval = pd.read_csv(\"/content/news/CrossValSplit.csv\", nrows=n)\n",
        "staff = pd.read_csv(\"/content/news/Newspaper_Staff.csv\", nrows=n)\n",
        "annotations = pd.read_csv(\"/content/news/Annotations.csv\", nrows=n)"
      ],
      "execution_count": 0,
      "outputs": []
    },
    {
      "cell_type": "markdown",
      "metadata": {
        "id": "XL4KWJlnh0TY",
        "colab_type": "text"
      },
      "source": [
        "#Merge Datasets"
      ]
    },
    {
      "cell_type": "code",
      "metadata": {
        "id": "kOPNyB_wbqf0",
        "colab_type": "code",
        "outputId": "6fc8251f-ca10-46c5-b6cd-29fa46230e0f",
        "colab": {
          "base_uri": "https://localhost:8080/",
          "height": 33
        }
      },
      "source": [
        "posts.shape, articles.shape"
      ],
      "execution_count": 0,
      "outputs": [
        {
          "output_type": "execute_result",
          "data": {
            "text/plain": [
              "((1011773, 10), (12087, 5))"
            ]
          },
          "metadata": {
            "tags": []
          },
          "execution_count": 4
        }
      ]
    },
    {
      "cell_type": "code",
      "metadata": {
        "trusted": true,
        "id": "fR40LGVpA3uJ",
        "colab_type": "code",
        "colab": {}
      },
      "source": [
        "result = pd.merge(posts, articles, on='ID_Article', how='inner')"
      ],
      "execution_count": 0,
      "outputs": []
    },
    {
      "cell_type": "code",
      "metadata": {
        "id": "377NQE09byO7",
        "colab_type": "code",
        "outputId": "4197ab23-6f75-43e2-97dc-055e8aa30268",
        "colab": {
          "base_uri": "https://localhost:8080/",
          "height": 33
        }
      },
      "source": [
        "result.shape"
      ],
      "execution_count": 0,
      "outputs": [
        {
          "output_type": "execute_result",
          "data": {
            "text/plain": [
              "(1011773, 14)"
            ]
          },
          "metadata": {
            "tags": []
          },
          "execution_count": 18
        }
      ]
    },
    {
      "cell_type": "code",
      "metadata": {
        "id": "Sw2QkosVb1aP",
        "colab_type": "code",
        "outputId": "79e1786f-ff8e-4d4d-df47-3626a9a6e59e",
        "colab": {
          "base_uri": "https://localhost:8080/",
          "height": 572
        }
      },
      "source": [
        "posts"
      ],
      "execution_count": 0,
      "outputs": [
        {
          "output_type": "execute_result",
          "data": {
            "text/html": [
              "<div>\n",
              "<style scoped>\n",
              "    .dataframe tbody tr th:only-of-type {\n",
              "        vertical-align: middle;\n",
              "    }\n",
              "\n",
              "    .dataframe tbody tr th {\n",
              "        vertical-align: top;\n",
              "    }\n",
              "\n",
              "    .dataframe thead th {\n",
              "        text-align: right;\n",
              "    }\n",
              "</style>\n",
              "<table border=\"1\" class=\"dataframe\">\n",
              "  <thead>\n",
              "    <tr style=\"text-align: right;\">\n",
              "      <th></th>\n",
              "      <th>ID_Post</th>\n",
              "      <th>ID_Parent_Post</th>\n",
              "      <th>ID_Article</th>\n",
              "      <th>ID_User</th>\n",
              "      <th>CreatedAt</th>\n",
              "      <th>Status</th>\n",
              "      <th>Headline</th>\n",
              "      <th>Body</th>\n",
              "      <th>PositiveVotes</th>\n",
              "      <th>NegativeVotes</th>\n",
              "    </tr>\n",
              "  </thead>\n",
              "  <tbody>\n",
              "    <tr>\n",
              "      <th>0</th>\n",
              "      <td>1</td>\n",
              "      <td>NaN</td>\n",
              "      <td>1</td>\n",
              "      <td>9089</td>\n",
              "      <td>2003-04-23 14:52:41.870</td>\n",
              "      <td>deleted</td>\n",
              "      <td>NaN</td>\n",
              "      <td>NaN</td>\n",
              "      <td>0</td>\n",
              "      <td>0</td>\n",
              "    </tr>\n",
              "    <tr>\n",
              "      <th>1</th>\n",
              "      <td>2</td>\n",
              "      <td>NaN</td>\n",
              "      <td>1</td>\n",
              "      <td>29367</td>\n",
              "      <td>2003-11-04 16:21:57.850</td>\n",
              "      <td>online</td>\n",
              "      <td>Newsletter \"DER STANDARD\"</td>\n",
              "      <td>Ich bin begeistert von den STANDARD - Newslett...</td>\n",
              "      <td>0</td>\n",
              "      <td>0</td>\n",
              "    </tr>\n",
              "    <tr>\n",
              "      <th>2</th>\n",
              "      <td>3</td>\n",
              "      <td>2.0</td>\n",
              "      <td>1</td>\n",
              "      <td>5095</td>\n",
              "      <td>2004-01-28 12:57:28.240</td>\n",
              "      <td>deleted</td>\n",
              "      <td>Auch begeistert...</td>\n",
              "      <td>... Aber momentan funktioniert das Abmelden od...</td>\n",
              "      <td>0</td>\n",
              "      <td>0</td>\n",
              "    </tr>\n",
              "    <tr>\n",
              "      <th>3</th>\n",
              "      <td>4</td>\n",
              "      <td>3.0</td>\n",
              "      <td>1</td>\n",
              "      <td>1682</td>\n",
              "      <td>2004-02-03 20:32:39.123</td>\n",
              "      <td>deleted</td>\n",
              "      <td>Abmeldeprobleme</td>\n",
              "      <td>Es ist ganz einfach nervend!\\r\\nVor kurzem hab...</td>\n",
              "      <td>0</td>\n",
              "      <td>0</td>\n",
              "    </tr>\n",
              "    <tr>\n",
              "      <th>4</th>\n",
              "      <td>5</td>\n",
              "      <td>NaN</td>\n",
              "      <td>1</td>\n",
              "      <td>3343</td>\n",
              "      <td>2004-03-02 11:37:44.100</td>\n",
              "      <td>online</td>\n",
              "      <td>NaN</td>\n",
              "      <td>und sie als mitarbeiter sind natuerlich objektiv</td>\n",
              "      <td>0</td>\n",
              "      <td>0</td>\n",
              "    </tr>\n",
              "    <tr>\n",
              "      <th>...</th>\n",
              "      <td>...</td>\n",
              "      <td>...</td>\n",
              "      <td>...</td>\n",
              "      <td>...</td>\n",
              "      <td>...</td>\n",
              "      <td>...</td>\n",
              "      <td>...</td>\n",
              "      <td>...</td>\n",
              "      <td>...</td>\n",
              "      <td>...</td>\n",
              "    </tr>\n",
              "    <tr>\n",
              "      <th>1011768</th>\n",
              "      <td>1011769</td>\n",
              "      <td>1011764.0</td>\n",
              "      <td>12087</td>\n",
              "      <td>6355</td>\n",
              "      <td>2016-06-01 23:10:29.003</td>\n",
              "      <td>online</td>\n",
              "      <td>NaN</td>\n",
              "      <td>zwischen der beendigung eines arbeitsverhältni...</td>\n",
              "      <td>0</td>\n",
              "      <td>0</td>\n",
              "    </tr>\n",
              "    <tr>\n",
              "      <th>1011769</th>\n",
              "      <td>1011770</td>\n",
              "      <td>1011765.0</td>\n",
              "      <td>12087</td>\n",
              "      <td>6355</td>\n",
              "      <td>2016-06-01 23:11:14.790</td>\n",
              "      <td>online</td>\n",
              "      <td>NaN</td>\n",
              "      <td>du sagst es ja im namen selbst: wegen eindicku...</td>\n",
              "      <td>1</td>\n",
              "      <td>0</td>\n",
              "    </tr>\n",
              "    <tr>\n",
              "      <th>1011770</th>\n",
              "      <td>1011771</td>\n",
              "      <td>1011770.0</td>\n",
              "      <td>12087</td>\n",
              "      <td>27023</td>\n",
              "      <td>2016-06-02 08:16:56.690</td>\n",
              "      <td>online</td>\n",
              "      <td>NaN</td>\n",
              "      <td>Was genau haben Sie denn nicht verstanden? Ich...</td>\n",
              "      <td>0</td>\n",
              "      <td>1</td>\n",
              "    </tr>\n",
              "    <tr>\n",
              "      <th>1011771</th>\n",
              "      <td>1011772</td>\n",
              "      <td>1011769.0</td>\n",
              "      <td>12087</td>\n",
              "      <td>19159</td>\n",
              "      <td>2016-06-02 09:12:09.993</td>\n",
              "      <td>online</td>\n",
              "      <td>NaN</td>\n",
              "      <td>irgendwie widersprechen Sie sich in Ihrem Post...</td>\n",
              "      <td>1</td>\n",
              "      <td>0</td>\n",
              "    </tr>\n",
              "    <tr>\n",
              "      <th>1011772</th>\n",
              "      <td>1011773</td>\n",
              "      <td>1011768.0</td>\n",
              "      <td>12087</td>\n",
              "      <td>8696</td>\n",
              "      <td>2016-06-02 09:52:03.410</td>\n",
              "      <td>online</td>\n",
              "      <td>Elisabeth Leopold</td>\n",
              "      <td>Ohne sie läuft doch weiterhin gar nichts im Le...</td>\n",
              "      <td>0</td>\n",
              "      <td>0</td>\n",
              "    </tr>\n",
              "  </tbody>\n",
              "</table>\n",
              "<p>1011773 rows × 10 columns</p>\n",
              "</div>"
            ],
            "text/plain": [
              "         ID_Post  ID_Parent_Post  ...  PositiveVotes  NegativeVotes\n",
              "0              1             NaN  ...              0              0\n",
              "1              2             NaN  ...              0              0\n",
              "2              3             2.0  ...              0              0\n",
              "3              4             3.0  ...              0              0\n",
              "4              5             NaN  ...              0              0\n",
              "...          ...             ...  ...            ...            ...\n",
              "1011768  1011769       1011764.0  ...              0              0\n",
              "1011769  1011770       1011765.0  ...              1              0\n",
              "1011770  1011771       1011770.0  ...              0              1\n",
              "1011771  1011772       1011769.0  ...              1              0\n",
              "1011772  1011773       1011768.0  ...              0              0\n",
              "\n",
              "[1011773 rows x 10 columns]"
            ]
          },
          "metadata": {
            "tags": []
          },
          "execution_count": 19
        }
      ]
    },
    {
      "cell_type": "code",
      "metadata": {
        "trusted": true,
        "id": "la19UUEyA3uG",
        "colab_type": "code",
        "colab": {}
      },
      "source": [
        "result = pd.merge(result, crossval, on='ID_Post', how='left')"
      ],
      "execution_count": 0,
      "outputs": []
    },
    {
      "cell_type": "code",
      "metadata": {
        "trusted": true,
        "id": "DpXgjKj0A3uM",
        "colab_type": "code",
        "colab": {}
      },
      "source": [
        "result = pd.merge(result, staff, on='ID_User', how='left')"
      ],
      "execution_count": 0,
      "outputs": []
    },
    {
      "cell_type": "code",
      "metadata": {
        "trusted": true,
        "id": "WAIM1DhcA3uO",
        "colab_type": "code",
        "colab": {}
      },
      "source": [
        "result = pd.merge(result, annotations, on='ID_Post', how='left')"
      ],
      "execution_count": 0,
      "outputs": []
    },
    {
      "cell_type": "code",
      "metadata": {
        "trusted": true,
        "id": "-CmT6b6RA3uR",
        "colab_type": "code",
        "colab": {}
      },
      "source": [
        "result = pd.merge(result, annotations_consol, on='ID_Post', how='left')"
      ],
      "execution_count": 0,
      "outputs": []
    },
    {
      "cell_type": "code",
      "metadata": {
        "id": "GhRTQYebdCjT",
        "colab_type": "code",
        "outputId": "2693fb03-b9c9-4fe5-bb82-186cf1525f26",
        "colab": {
          "base_uri": "https://localhost:8080/",
          "height": 33
        }
      },
      "source": [
        "result.shape"
      ],
      "execution_count": 0,
      "outputs": [
        {
          "output_type": "execute_result",
          "data": {
            "text/plain": [
              "(5089860, 21)"
            ]
          },
          "metadata": {
            "tags": []
          },
          "execution_count": 24
        }
      ]
    },
    {
      "cell_type": "markdown",
      "metadata": {
        "id": "SbUI0wI3h4ET",
        "colab_type": "text"
      },
      "source": [
        "Merged the datasets however it did not make sense to me to use as it has articles repeated multiple times as the primary key of posts is ID_Post and ID_Articles is not unique.\n",
        "articles cannot be merged with any other csv directly as it does not share a key."
      ]
    },
    {
      "cell_type": "markdown",
      "metadata": {
        "id": "kf77kLqNkiOM",
        "colab_type": "text"
      },
      "source": [
        "#Preprocess data\n",
        "\n",
        "1.   Removed html tags\n",
        "2.   Removed escape characters\n",
        "3.   Remove characters except alphabetical(including German alpha chars) and whitespace characters\n",
        "4.   Tokenize using WordPunctTokenizer coz German\n",
        "5.   Remove stopwords\n",
        "6.   Convert to lowercase\n",
        "\n"
      ]
    },
    {
      "cell_type": "code",
      "metadata": {
        "trusted": true,
        "id": "6OtYmpQCA3ua",
        "colab_type": "code",
        "colab": {}
      },
      "source": [
        "def preprocess(doc):\n",
        "    sentences = []\n",
        "    doc = re.sub(r'<.*?>', '', doc)\n",
        "    doc = re.sub(r'\\n', '', doc)\n",
        "    doc = re.sub(r'\\t', '', doc)\n",
        "    doc = re.sub(r'\\r', '', doc)\n",
        "    doc = re.sub(r'[^A-Za-z\\säöüÄÖÜß]', ' ', doc)\n",
        "    stop_words = set(stopwords.words('german'))\n",
        "    word_tokens = WordPunctTokenizer().tokenize(doc)\n",
        "    t = [w.lower() for w in word_tokens if not w.lower() in stop_words]\n",
        "    t = ' '.join(t)\n",
        "    return t"
      ],
      "execution_count": 0,
      "outputs": []
    },
    {
      "cell_type": "code",
      "metadata": {
        "trusted": true,
        "id": "_kmhYDXOA3ud",
        "colab_type": "code",
        "colab": {}
      },
      "source": [
        "articles['cleanedbody'] = articles['Body'].apply(preprocess)\n",
        "articles['cleanedtitle'] = articles['Title'].apply(preprocess)"
      ],
      "execution_count": 0,
      "outputs": []
    },
    {
      "cell_type": "code",
      "metadata": {
        "trusted": true,
        "id": "iDIRm7oDA3ug",
        "colab_type": "code",
        "outputId": "f64f1cc6-4217-45eb-ce68-992b62d4752d",
        "colab": {
          "base_uri": "https://localhost:8080/",
          "height": 280
        }
      },
      "source": [
        "articles.head()"
      ],
      "execution_count": 12,
      "outputs": [
        {
          "output_type": "execute_result",
          "data": {
            "text/html": [
              "<div>\n",
              "<style scoped>\n",
              "    .dataframe tbody tr th:only-of-type {\n",
              "        vertical-align: middle;\n",
              "    }\n",
              "\n",
              "    .dataframe tbody tr th {\n",
              "        vertical-align: top;\n",
              "    }\n",
              "\n",
              "    .dataframe thead th {\n",
              "        text-align: right;\n",
              "    }\n",
              "</style>\n",
              "<table border=\"1\" class=\"dataframe\">\n",
              "  <thead>\n",
              "    <tr style=\"text-align: right;\">\n",
              "      <th></th>\n",
              "      <th>ID_Article</th>\n",
              "      <th>Path</th>\n",
              "      <th>publishingDate</th>\n",
              "      <th>Title</th>\n",
              "      <th>Body</th>\n",
              "      <th>cleanedbody</th>\n",
              "      <th>cleanedtitle</th>\n",
              "    </tr>\n",
              "  </thead>\n",
              "  <tbody>\n",
              "    <tr>\n",
              "      <th>0</th>\n",
              "      <td>1</td>\n",
              "      <td>Newsroom/User/Community</td>\n",
              "      <td>2012-05-26 03:00:19.23</td>\n",
              "      <td>Die Newsletter von derStandard.at</td>\n",
              "      <td>&lt;div class=\"section\" id=\"content-main\" itempro...</td>\n",
              "      <td>abonnieren unserer newsletter lassen aktuelle ...</td>\n",
              "      <td>newsletter derstandard at</td>\n",
              "    </tr>\n",
              "    <tr>\n",
              "      <th>1</th>\n",
              "      <td>2</td>\n",
              "      <td>Newsroom/User/Community/Regeln</td>\n",
              "      <td>2012-05-26 12:12:19.46</td>\n",
              "      <td>Werden Sie Teil von derStandard.at!</td>\n",
              "      <td>&lt;div class=\"diashow\" id=\"objectContent\"&gt;&lt;meta ...</td>\n",
              "      <td>teil derstandard at dezember function popupwin...</td>\n",
              "      <td>teil derstandard at</td>\n",
              "    </tr>\n",
              "    <tr>\n",
              "      <th>2</th>\n",
              "      <td>3</td>\n",
              "      <td>Diverses/mobil</td>\n",
              "      <td>2013-11-22 12:15:00.00</td>\n",
              "      <td>Die Android App von derStandard.at</td>\n",
              "      <td>&lt;div class=\"section\" id=\"content-main\" itempro...</td>\n",
              "      <td>smartphone app bietet nachrichten echtzeit mög...</td>\n",
              "      <td>android app derstandard at</td>\n",
              "    </tr>\n",
              "    <tr>\n",
              "      <th>3</th>\n",
              "      <td>4</td>\n",
              "      <td>Newsroom/User/mitmachen/Mitreden</td>\n",
              "      <td>2014-08-13 05:30:00.00</td>\n",
              "      <td>Welche Erfahrungen haben Sie als Linkshänder g...</td>\n",
              "      <td>&lt;div class=\"section\" id=\"content-main\" itempro...</td>\n",
              "      <td>sieht alltag linkshänder erledigen arbeiten re...</td>\n",
              "      <td>erfahrungen linkshänder gemacht</td>\n",
              "    </tr>\n",
              "    <tr>\n",
              "      <th>4</th>\n",
              "      <td>5</td>\n",
              "      <td>Newsroom/User/mitmachen/Mitreden</td>\n",
              "      <td>2014-08-27 12:27:01.09</td>\n",
              "      <td>Wie haben Sie das Jahr 1989 erlebt?</td>\n",
              "      <td>&lt;div class=\"section\" id=\"content-main\" itempro...</td>\n",
              "      <td>erzählen erlebnissen rund weltpolitischen umbr...</td>\n",
              "      <td>jahr erlebt</td>\n",
              "    </tr>\n",
              "  </tbody>\n",
              "</table>\n",
              "</div>"
            ],
            "text/plain": [
              "   ID_Article  ...                     cleanedtitle\n",
              "0           1  ...        newsletter derstandard at\n",
              "1           2  ...              teil derstandard at\n",
              "2           3  ...       android app derstandard at\n",
              "3           4  ...  erfahrungen linkshänder gemacht\n",
              "4           5  ...                      jahr erlebt\n",
              "\n",
              "[5 rows x 7 columns]"
            ]
          },
          "metadata": {
            "tags": []
          },
          "execution_count": 12
        }
      ]
    },
    {
      "cell_type": "code",
      "metadata": {
        "id": "v0FgSJrjWvNv",
        "colab_type": "code",
        "colab": {}
      },
      "source": [
        "def print_topics(model, vectorizer, n_top_words):\n",
        "    words = vectorizer.get_feature_names()\n",
        "    for topic_idx, topic in enumerate(model.components_):\n",
        "        print(\"Topic #%d:\" % topic_idx)\n",
        "        print(\" \".join([words[i] for i in topic.argsort()[:-n_top_words - 1:-1]]))"
      ],
      "execution_count": 0,
      "outputs": []
    },
    {
      "cell_type": "code",
      "metadata": {
        "id": "DCpSEHmT1Y4C",
        "colab_type": "code",
        "colab": {}
      },
      "source": [
        "number_topics = 5\n",
        "number_words = 5\n",
        "def return_topics(model, vectorizer, n_top_words):\n",
        "    words = vectorizer.get_feature_names()\n",
        "    t=[]\n",
        "    for topic_idx, topic in enumerate(model.components_):\n",
        "        t.append(\" \".join([words[i] for i in topic.argsort()[:-n_top_words - 1:-1]]))\n",
        "    return t"
      ],
      "execution_count": 0,
      "outputs": []
    },
    {
      "cell_type": "markdown",
      "metadata": {
        "id": "NXyWWmJumk0H",
        "colab_type": "text"
      },
      "source": [
        "#TFIDF and LDA"
      ]
    },
    {
      "cell_type": "code",
      "metadata": {
        "id": "Ul22amc1Vw0G",
        "colab_type": "code",
        "outputId": "4ffa3434-d5e1-4a14-c086-3d7335047d7a",
        "colab": {
          "base_uri": "https://localhost:8080/",
          "height": 435
        }
      },
      "source": [
        "title_vectorizer = TfidfVectorizer()\n",
        "title = title_vectorizer.fit_transform(articles['cleanedtitle'])\n",
        "body_vectorizer = TfidfVectorizer()\n",
        "body = body_vectorizer.fit_transform(articles['cleanedbody'])\n",
        "\n",
        "title_lda = LDA(n_components=number_topics, n_jobs=-1)\n",
        "title_lda.fit(title)\n",
        "body_lda = LDA(n_components=number_topics, n_jobs=-1)\n",
        "body_lda.fit(body)\n",
        "\n",
        "print(\"Title Topics:\")\n",
        "print_topics(title_lda, title_vectorizer, number_words)\n",
        "print(\"\\n\\n\")\n",
        "print(\"Body Topics:\")\n",
        "print_topics(body_lda, body_vectorizer, number_words)"
      ],
      "execution_count": 13,
      "outputs": [
        {
          "output_type": "stream",
          "text": [
            "Title Topics:\n",
            "Topic #0:\n",
            "mehr flüchtlinge apple forum us\n",
            "Topic #1:\n",
            "wien zwei eu tote mehr\n",
            "Topic #2:\n",
            "österreich flüchtlinge wien neue apple\n",
            "Topic #3:\n",
            "chef eu euro salzburg österreich\n",
            "Topic #4:\n",
            "wien wiener mehr eu wegen\n",
            "\n",
            "\n",
            "\n",
            "Body Topics:\n",
            "Topic #0:\n",
            "clarkson dada gemeindeergebnisse valverde gravitationswellen\n",
            "Topic #1:\n",
            "övgw georgiou flatout kopera grohl\n",
            "Topic #2:\n",
            "prozent mehr euro sei wurde\n",
            "Topic #3:\n",
            "volltext agenturmeldungen basierenden artikels rechtlichen\n",
            "Topic #4:\n",
            "mensdorff shabaab pouilly mogadischu suu\n"
          ],
          "name": "stdout"
        }
      ]
    },
    {
      "cell_type": "code",
      "metadata": {
        "id": "Pnyzddwm1fl4",
        "colab_type": "code",
        "colab": {}
      },
      "source": [
        "title_topics = return_topics(title_lda, title_vectorizer, number_words)\n",
        "body_topics = return_topics(body_lda, body_vectorizer, number_words)"
      ],
      "execution_count": 0,
      "outputs": []
    },
    {
      "cell_type": "code",
      "metadata": {
        "id": "ePDflQEY2CWO",
        "colab_type": "code",
        "outputId": "396852b4-0024-4aa5-9081-0ba19ed3f273",
        "colab": {
          "base_uri": "https://localhost:8080/",
          "height": 53
        }
      },
      "source": [
        "print(title_topics, body_topics)"
      ],
      "execution_count": 15,
      "outputs": [
        {
          "output_type": "stream",
          "text": [
            "['mehr flüchtlinge apple forum us', 'wien zwei eu tote mehr', 'österreich flüchtlinge wien neue apple', 'chef eu euro salzburg österreich', 'wien wiener mehr eu wegen'] ['clarkson dada gemeindeergebnisse valverde gravitationswellen', 'övgw georgiou flatout kopera grohl', 'prozent mehr euro sei wurde', 'volltext agenturmeldungen basierenden artikels rechtlichen', 'mensdorff shabaab pouilly mogadischu suu']\n"
          ],
          "name": "stdout"
        }
      ]
    },
    {
      "cell_type": "markdown",
      "metadata": {
        "id": "745uLih4nLl5",
        "colab_type": "text"
      },
      "source": [
        "#LDA Visualization on 5000 rows\n",
        "Running on entire dataset would take too long"
      ]
    },
    {
      "cell_type": "code",
      "metadata": {
        "id": "YTgbkOvLWmzA",
        "colab_type": "code",
        "outputId": "25aa93dd-8e5a-4866-e64f-b32c4722d018",
        "colab": {
          "base_uri": "https://localhost:8080/",
          "height": 170
        }
      },
      "source": [
        "from pyLDAvis import sklearn as sklearn_lda\n",
        "import pickle \n",
        "import pyLDAvis\n",
        "\n",
        "title_vectorizer_vis = TfidfVectorizer()\n",
        "title_vis = title_vectorizer_vis.fit_transform(articles['cleanedtitle'][:500])\n",
        "body_vectorizer_vis = TfidfVectorizer()\n",
        "body_vis = body_vectorizer_vis.fit_transform(articles['cleanedbody'][:500])\n",
        "\n",
        "title_lda_vis = LDA(n_components=number_topics, n_jobs=-1)\n",
        "title_lda_vis.fit(title_vis)\n",
        "body_lda_vis = LDA(n_components=number_topics, n_jobs=-1)\n",
        "body_lda_vis.fit(body_vis)\n",
        "\n",
        "LDAvis_prepared = sklearn_lda.prepare(title_lda_vis, title_vis, title_vectorizer_vis)\n",
        "pyLDAvis.save_html(LDAvis_prepared, './ldavis_title_prepared_'+ str(number_topics) +'.html')\n",
        "LDAvis_prepared = sklearn_lda.prepare(body_lda_vis, body_vis, body_vectorizer_vis)\n",
        "pyLDAvis.save_html(LDAvis_prepared, './ldavis_body_prepared_'+ str(number_topics) +'.html')"
      ],
      "execution_count": 0,
      "outputs": [
        {
          "output_type": "stream",
          "text": [
            "/usr/local/lib/python3.6/dist-packages/pyLDAvis/_prepare.py:257: FutureWarning: Sorting because non-concatenation axis is not aligned. A future version\n",
            "of pandas will change to not sort by default.\n",
            "\n",
            "To accept the future behavior, pass 'sort=False'.\n",
            "\n",
            "To retain the current behavior and silence the warning, pass 'sort=True'.\n",
            "\n",
            "  return pd.concat([default_term_info] + list(topic_dfs))\n"
          ],
          "name": "stderr"
        }
      ]
    },
    {
      "cell_type": "code",
      "metadata": {
        "id": "vEbcfARudsdZ",
        "colab_type": "code",
        "colab": {}
      },
      "source": [
        "# pyLDAvis.save_html(LDAvis_prepared, './ldavis_prepared_'+ str(number_topics) +'.html')"
      ],
      "execution_count": 0,
      "outputs": []
    },
    {
      "cell_type": "markdown",
      "metadata": {
        "id": "9X8o7mz7nSsL",
        "colab_type": "text"
      },
      "source": [
        "#Mapping topics back to articles"
      ]
    },
    {
      "cell_type": "code",
      "metadata": {
        "id": "i_vDpIvSy82o",
        "colab_type": "code",
        "colab": {}
      },
      "source": [
        "t_topics = []\n",
        "b_topics = []\n",
        "for t, b in zip(title, body):\n",
        "    t_topic = title_topics[np.argmax(title_lda.transform(t))]\n",
        "    b_topic = body_topics[np.argmax(body_lda.transform(b))]\n",
        "    t_topics.append(t_topic)\n",
        "    b_topics.append(b_topic)"
      ],
      "execution_count": 0,
      "outputs": []
    },
    {
      "cell_type": "code",
      "metadata": {
        "id": "PgS-Wqt5J6Sy",
        "colab_type": "code",
        "colab": {}
      },
      "source": [
        "articles['title_topic'] = t_topics\n",
        "articles['body_topic'] = b_topics"
      ],
      "execution_count": 0,
      "outputs": []
    },
    {
      "cell_type": "code",
      "metadata": {
        "id": "XDrSy5n_KBGA",
        "colab_type": "code",
        "outputId": "cc6c76c3-09c1-4efd-fc65-504b4df0de10",
        "colab": {
          "base_uri": "https://localhost:8080/",
          "height": 534
        }
      },
      "source": [
        "articles.head()"
      ],
      "execution_count": 19,
      "outputs": [
        {
          "output_type": "execute_result",
          "data": {
            "text/html": [
              "<div>\n",
              "<style scoped>\n",
              "    .dataframe tbody tr th:only-of-type {\n",
              "        vertical-align: middle;\n",
              "    }\n",
              "\n",
              "    .dataframe tbody tr th {\n",
              "        vertical-align: top;\n",
              "    }\n",
              "\n",
              "    .dataframe thead th {\n",
              "        text-align: right;\n",
              "    }\n",
              "</style>\n",
              "<table border=\"1\" class=\"dataframe\">\n",
              "  <thead>\n",
              "    <tr style=\"text-align: right;\">\n",
              "      <th></th>\n",
              "      <th>ID_Article</th>\n",
              "      <th>Path</th>\n",
              "      <th>publishingDate</th>\n",
              "      <th>Title</th>\n",
              "      <th>Body</th>\n",
              "      <th>cleanedbody</th>\n",
              "      <th>cleanedtitle</th>\n",
              "      <th>title_topic</th>\n",
              "      <th>body_topic</th>\n",
              "    </tr>\n",
              "  </thead>\n",
              "  <tbody>\n",
              "    <tr>\n",
              "      <th>0</th>\n",
              "      <td>1</td>\n",
              "      <td>Newsroom/User/Community</td>\n",
              "      <td>2012-05-26 03:00:19.23</td>\n",
              "      <td>Die Newsletter von derStandard.at</td>\n",
              "      <td>&lt;div class=\"section\" id=\"content-main\" itempro...</td>\n",
              "      <td>abonnieren unserer newsletter lassen aktuelle ...</td>\n",
              "      <td>newsletter derstandard at</td>\n",
              "      <td>wien neue flüchtlinge drei mehr</td>\n",
              "      <td>prozent mehr euro sei wurde</td>\n",
              "    </tr>\n",
              "    <tr>\n",
              "      <th>1</th>\n",
              "      <td>2</td>\n",
              "      <td>Newsroom/User/Community/Regeln</td>\n",
              "      <td>2012-05-26 12:12:19.46</td>\n",
              "      <td>Werden Sie Teil von derStandard.at!</td>\n",
              "      <td>&lt;div class=\"diashow\" id=\"objectContent\"&gt;&lt;meta ...</td>\n",
              "      <td>teil derstandard at dezember function popupwin...</td>\n",
              "      <td>teil derstandard at</td>\n",
              "      <td>tv radiotipps eu wien österreich</td>\n",
              "      <td>prozent mehr euro sei wurde</td>\n",
              "    </tr>\n",
              "    <tr>\n",
              "      <th>2</th>\n",
              "      <td>3</td>\n",
              "      <td>Diverses/mobil</td>\n",
              "      <td>2013-11-22 12:15:00.00</td>\n",
              "      <td>Die Android App von derStandard.at</td>\n",
              "      <td>&lt;div class=\"section\" id=\"content-main\" itempro...</td>\n",
              "      <td>smartphone app bietet nachrichten echtzeit mög...</td>\n",
              "      <td>android app derstandard at</td>\n",
              "      <td>wien neue flüchtlinge drei mehr</td>\n",
              "      <td>prozent mehr euro sei wurde</td>\n",
              "    </tr>\n",
              "    <tr>\n",
              "      <th>3</th>\n",
              "      <td>4</td>\n",
              "      <td>Newsroom/User/mitmachen/Mitreden</td>\n",
              "      <td>2014-08-13 05:30:00.00</td>\n",
              "      <td>Welche Erfahrungen haben Sie als Linkshänder g...</td>\n",
              "      <td>&lt;div class=\"section\" id=\"content-main\" itempro...</td>\n",
              "      <td>sieht alltag linkshänder erledigen arbeiten re...</td>\n",
              "      <td>erfahrungen linkshänder gemacht</td>\n",
              "      <td>wien neue flüchtlinge drei mehr</td>\n",
              "      <td>prozent mehr euro sei wurde</td>\n",
              "    </tr>\n",
              "    <tr>\n",
              "      <th>4</th>\n",
              "      <td>5</td>\n",
              "      <td>Newsroom/User/mitmachen/Mitreden</td>\n",
              "      <td>2014-08-27 12:27:01.09</td>\n",
              "      <td>Wie haben Sie das Jahr 1989 erlebt?</td>\n",
              "      <td>&lt;div class=\"section\" id=\"content-main\" itempro...</td>\n",
              "      <td>erzählen erlebnissen rund weltpolitischen umbr...</td>\n",
              "      <td>jahr erlebt</td>\n",
              "      <td>tv radiotipps eu wien österreich</td>\n",
              "      <td>prozent mehr euro sei wurde</td>\n",
              "    </tr>\n",
              "  </tbody>\n",
              "</table>\n",
              "</div>"
            ],
            "text/plain": [
              "   ID_Article  ...                   body_topic\n",
              "0           1  ...  prozent mehr euro sei wurde\n",
              "1           2  ...  prozent mehr euro sei wurde\n",
              "2           3  ...  prozent mehr euro sei wurde\n",
              "3           4  ...  prozent mehr euro sei wurde\n",
              "4           5  ...  prozent mehr euro sei wurde\n",
              "\n",
              "[5 rows x 9 columns]"
            ]
          },
          "metadata": {
            "tags": []
          },
          "execution_count": 19
        }
      ]
    },
    {
      "cell_type": "markdown",
      "metadata": {
        "id": "5YSO2zJ2nX-2",
        "colab_type": "text"
      },
      "source": [
        "#Calculating similarity using TFIDF and cosine similarity"
      ]
    },
    {
      "cell_type": "code",
      "metadata": {
        "id": "LmX5GhTCNMCU",
        "colab_type": "code",
        "colab": {}
      },
      "source": [
        "tfidf_vectorizer12 = TfidfVectorizer(analyzer='word')\n",
        "tfidf_vectorizer12.fit(pd.concat([articles['cleanedtitle'], articles['title_topic']]))\n",
        "vec121 = tfidf_vectorizer12.transform(articles['cleanedtitle'])\n",
        "vec122 = tfidf_vectorizer12.transform(articles['title_topic'])\n",
        "\n",
        "tfidf_vectorizer23 = TfidfVectorizer(analyzer='word')\n",
        "tfidf_vectorizer23.fit(pd.concat([articles['title_topic'], articles['body_topic']]))\n",
        "vec232 = tfidf_vectorizer23.transform(articles['title_topic'])\n",
        "vec233 = tfidf_vectorizer23.transform(articles['body_topic'])\n",
        "\n",
        "tfidf_vectorizer13 = TfidfVectorizer(analyzer='word')\n",
        "tfidf_vectorizer13.fit(pd.concat([articles['cleanedtitle'], articles['body_topic']]))\n",
        "vec131 = tfidf_vectorizer13.transform(articles['cleanedtitle'])\n",
        "vec133 = tfidf_vectorizer13.transform(articles['body_topic'])"
      ],
      "execution_count": 0,
      "outputs": []
    },
    {
      "cell_type": "code",
      "metadata": {
        "id": "Cp9UcVw2NQD_",
        "colab_type": "code",
        "colab": {}
      },
      "source": [
        "sim12 = []\n",
        "sim23 = []\n",
        "sim13 = []\n",
        "for i in range(len(articles)):\n",
        "  sim12.append(scipy.spatial.distance.cosine(vec121[i].toarray(), vec122[i].toarray()))\n",
        "  sim23.append(scipy.spatial.distance.cosine(vec232[i].toarray(), vec233[i].toarray()))\n",
        "  sim13.append(scipy.spatial.distance.cosine(vec131[i].toarray(), vec133[i].toarray()))"
      ],
      "execution_count": 0,
      "outputs": []
    },
    {
      "cell_type": "code",
      "metadata": {
        "id": "dxIonYOoNrSH",
        "colab_type": "code",
        "colab": {}
      },
      "source": [
        "articles['x'], articles['y'], articles['z'], articles['scores'] = sim12, sim23, sim13, (np.array(sim12) + np.array(sim12) + np.array(sim12))/3"
      ],
      "execution_count": 0,
      "outputs": []
    },
    {
      "cell_type": "code",
      "metadata": {
        "id": "tFQOn-5HN01_",
        "colab_type": "code",
        "outputId": "4eebf140-967e-44c0-f231-e203807db23b",
        "colab": {
          "base_uri": "https://localhost:8080/",
          "height": 33
        }
      },
      "source": [
        "articles['scores'].mean()"
      ],
      "execution_count": 23,
      "outputs": [
        {
          "output_type": "execute_result",
          "data": {
            "text/plain": [
              "0.9915482405229078"
            ]
          },
          "metadata": {
            "tags": []
          },
          "execution_count": 23
        }
      ]
    },
    {
      "cell_type": "markdown",
      "metadata": {
        "id": "QhaDPDc4ntwN",
        "colab_type": "text"
      },
      "source": [
        "#Final Score: 0.9915482405229078"
      ]
    },
    {
      "cell_type": "code",
      "metadata": {
        "id": "Ar8qOteEVshz",
        "colab_type": "code",
        "colab": {}
      },
      "source": [
        ""
      ],
      "execution_count": 0,
      "outputs": []
    }
  ]
}