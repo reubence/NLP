{
  "nbformat": 4,
  "nbformat_minor": 0,
  "metadata": {
    "colab": {
      "name": "WordCountDictionary",
      "provenance": [],
      "collapsed_sections": [],
      "include_colab_link": true
    },
    "kernelspec": {
      "name": "python3",
      "display_name": "Python 3"
    }
  },
  "cells": [
    {
      "cell_type": "markdown",
      "metadata": {
        "id": "view-in-github",
        "colab_type": "text"
      },
      "source": [
        "<a href=\"https://colab.research.google.com/github/reubence/NLP-COURSEWORK/blob/master/WordCountDictionary.ipynb\" target=\"_parent\"><img src=\"https://colab.research.google.com/assets/colab-badge.svg\" alt=\"Open In Colab\"/></a>"
      ]
    },
    {
      "cell_type": "code",
      "metadata": {
        "id": "_I4sb6TpfmDQ",
        "colab_type": "code",
        "colab": {}
      },
      "source": [
        "import pandas as pd \n",
        "import gzip  #gzip.open\n",
        "import nltk\n",
        "data=pd.read_json(\"http://snap.stanford.edu/data/amazon/productGraph/categoryFiles/reviews_Office_Products_5.json.gz\",lines= True,orient='values')"
      ],
      "execution_count": 0,
      "outputs": []
    },
    {
      "cell_type": "code",
      "metadata": {
        "id": "1I_ZnRDOgVBb",
        "colab_type": "code",
        "outputId": "95533708-8ef3-420b-9c7c-46d63ecc15c4",
        "colab": {
          "base_uri": "https://localhost:8080/",
          "height": 289
        }
      },
      "source": [
        "data.head()"
      ],
      "execution_count": 0,
      "outputs": [
        {
          "output_type": "execute_result",
          "data": {
            "text/html": [
              "<div>\n",
              "<style scoped>\n",
              "    .dataframe tbody tr th:only-of-type {\n",
              "        vertical-align: middle;\n",
              "    }\n",
              "\n",
              "    .dataframe tbody tr th {\n",
              "        vertical-align: top;\n",
              "    }\n",
              "\n",
              "    .dataframe thead th {\n",
              "        text-align: right;\n",
              "    }\n",
              "</style>\n",
              "<table border=\"1\" class=\"dataframe\">\n",
              "  <thead>\n",
              "    <tr style=\"text-align: right;\">\n",
              "      <th></th>\n",
              "      <th>reviewerID</th>\n",
              "      <th>asin</th>\n",
              "      <th>reviewerName</th>\n",
              "      <th>helpful</th>\n",
              "      <th>reviewText</th>\n",
              "      <th>overall</th>\n",
              "      <th>summary</th>\n",
              "      <th>unixReviewTime</th>\n",
              "      <th>reviewTime</th>\n",
              "    </tr>\n",
              "  </thead>\n",
              "  <tbody>\n",
              "    <tr>\n",
              "      <th>0</th>\n",
              "      <td>A32T2H8150OJLU</td>\n",
              "      <td>B00000JBLH</td>\n",
              "      <td>ARH</td>\n",
              "      <td>[3, 4]</td>\n",
              "      <td>I bought my first HP12C in about 1984 or so, a...</td>\n",
              "      <td>5</td>\n",
              "      <td>A solid performer, and long time friend</td>\n",
              "      <td>1094169600</td>\n",
              "      <td>09 3, 2004</td>\n",
              "    </tr>\n",
              "    <tr>\n",
              "      <th>1</th>\n",
              "      <td>A3MAFS04ZABRGO</td>\n",
              "      <td>B00000JBLH</td>\n",
              "      <td>Let it Be \"Alan\"</td>\n",
              "      <td>[7, 9]</td>\n",
              "      <td>WHY THIS BELATED REVIEW? I feel very obliged t...</td>\n",
              "      <td>5</td>\n",
              "      <td>Price of GOLD is up, so don't bury the golden ...</td>\n",
              "      <td>1197676800</td>\n",
              "      <td>12 15, 2007</td>\n",
              "    </tr>\n",
              "    <tr>\n",
              "      <th>2</th>\n",
              "      <td>A1F1A0QQP2XVH5</td>\n",
              "      <td>B00000JBLH</td>\n",
              "      <td>Mark B</td>\n",
              "      <td>[3, 3]</td>\n",
              "      <td>I have an HP 48GX that has been kicking for mo...</td>\n",
              "      <td>2</td>\n",
              "      <td>Good functionality, but not durable like old HPs</td>\n",
              "      <td>1293840000</td>\n",
              "      <td>01 1, 2011</td>\n",
              "    </tr>\n",
              "    <tr>\n",
              "      <th>3</th>\n",
              "      <td>A49R5DBXXQDE5</td>\n",
              "      <td>B00000JBLH</td>\n",
              "      <td>R. D Johnson</td>\n",
              "      <td>[7, 8]</td>\n",
              "      <td>I've started doing more finance stuff recently...</td>\n",
              "      <td>5</td>\n",
              "      <td>One of the last of an almost extinct species</td>\n",
              "      <td>1145404800</td>\n",
              "      <td>04 19, 2006</td>\n",
              "    </tr>\n",
              "    <tr>\n",
              "      <th>4</th>\n",
              "      <td>A2XRMQA6PJ5ZJ8</td>\n",
              "      <td>B00000JBLH</td>\n",
              "      <td>Roger J. Buffington</td>\n",
              "      <td>[0, 0]</td>\n",
              "      <td>For simple calculations and discounted cash fl...</td>\n",
              "      <td>5</td>\n",
              "      <td>Still the best</td>\n",
              "      <td>1375574400</td>\n",
              "      <td>08 4, 2013</td>\n",
              "    </tr>\n",
              "  </tbody>\n",
              "</table>\n",
              "</div>"
            ],
            "text/plain": [
              "       reviewerID        asin  ... unixReviewTime   reviewTime\n",
              "0  A32T2H8150OJLU  B00000JBLH  ...     1094169600   09 3, 2004\n",
              "1  A3MAFS04ZABRGO  B00000JBLH  ...     1197676800  12 15, 2007\n",
              "2  A1F1A0QQP2XVH5  B00000JBLH  ...     1293840000   01 1, 2011\n",
              "3   A49R5DBXXQDE5  B00000JBLH  ...     1145404800  04 19, 2006\n",
              "4  A2XRMQA6PJ5ZJ8  B00000JBLH  ...     1375574400   08 4, 2013\n",
              "\n",
              "[5 rows x 9 columns]"
            ]
          },
          "metadata": {
            "tags": []
          },
          "execution_count": 4
        }
      ]
    },
    {
      "cell_type": "code",
      "metadata": {
        "id": "MY2a3mH0nD7V",
        "colab_type": "code",
        "colab": {}
      },
      "source": [
        "data1=data[['reviewText','summary']]"
      ],
      "execution_count": 0,
      "outputs": []
    },
    {
      "cell_type": "code",
      "metadata": {
        "id": "DuQgq8sgNs0q",
        "colab_type": "code",
        "outputId": "a931ec25-5d1e-4a16-ed9c-cceba3f25a2a",
        "colab": {
          "base_uri": "https://localhost:8080/",
          "height": 260
        }
      },
      "source": [
        "data1.head"
      ],
      "execution_count": 0,
      "outputs": [
        {
          "output_type": "execute_result",
          "data": {
            "text/plain": [
              "<bound method NDFrame.head of                                               reviewText                                            summary\n",
              "0      I bought my first HP12C in about 1984 or so, a...            A solid performer, and long time friend\n",
              "1      WHY THIS BELATED REVIEW? I feel very obliged t...  Price of GOLD is up, so don't bury the golden ...\n",
              "2      I have an HP 48GX that has been kicking for mo...   Good functionality, but not durable like old HPs\n",
              "3      I've started doing more finance stuff recently...       One of the last of an almost extinct species\n",
              "4      For simple calculations and discounted cash fl...                                     Still the best\n",
              "...                                                  ...                                                ...\n",
              "53253  What I like about this scale is you can power ...                      Portable and very easy to use\n",
              "53254  This Accuteck ShipPro digital scale works very...  Accuteck ShipPro Digital Postal Scale - Stand-...\n",
              "53255  I ship a lot of stuff.  I sell small parts, ma...  Extremely accurate, foolproof postal/shipping ...\n",
              "53256  This is a great little scale to have. It can w...                            Fast, Easy and Accurate\n",
              "53257  When asked to review this scale, I almost decl...                 Great Value on a Good Postal Scale\n",
              "\n",
              "[53258 rows x 2 columns]>"
            ]
          },
          "metadata": {
            "tags": []
          },
          "execution_count": 6
        }
      ]
    },
    {
      "cell_type": "code",
      "metadata": {
        "id": "a7HDljAOl4Hn",
        "colab_type": "code",
        "colab": {}
      },
      "source": [
        "def word_count(str):\n",
        "    counts = dict()\n",
        "    words = str.lower().split()\n",
        "\n",
        "    for word in words:\n",
        "        if word in counts:\n",
        "            counts[word] += 1\n",
        "        else:\n",
        "            counts[word] = 1\n",
        "\n",
        "    return counts"
      ],
      "execution_count": 0,
      "outputs": []
    },
    {
      "cell_type": "code",
      "metadata": {
        "id": "fpuUF9lcH0bc",
        "colab_type": "code",
        "outputId": "bcfe6d8f-3dfb-4653-ef53-7e4646233140",
        "colab": {
          "base_uri": "https://localhost:8080/",
          "height": 225
        }
      },
      "source": [
        "data1.reviewText.apply(word_count,1)"
      ],
      "execution_count": 0,
      "outputs": [
        {
          "output_type": "execute_result",
          "data": {
            "text/plain": [
              "0        {'i': 7, 'bought': 1, 'my': 4, 'first': 1, 'hp...\n",
              "1        {'why': 2, 'this': 13, 'belated': 1, 'review?'...\n",
              "2        {'i': 2, 'have': 2, 'an': 2, 'hp': 3, '48gx': ...\n",
              "3        {'i've': 4, 'started': 1, 'doing': 2, 'more': ...\n",
              "4        {'for': 4, 'simple': 1, 'calculations': 2, 'an...\n",
              "                               ...                        \n",
              "53253    {'what': 1, 'i': 1, 'like': 1, 'about': 1, 'th...\n",
              "53254    {'this': 6, 'accuteck': 2, 'shippro': 2, 'digi...\n",
              "53255    {'i': 6, 'ship': 1, 'a': 10, 'lot': 1, 'of': 7...\n",
              "53256    {'this': 2, 'is': 4, 'a': 5, 'great': 2, 'litt...\n",
              "53257    {'when': 1, 'asked': 1, 'to': 9, 'review': 1, ...\n",
              "Name: reviewText, Length: 53258, dtype: object"
            ]
          },
          "metadata": {
            "tags": []
          },
          "execution_count": 8
        }
      ]
    },
    {
      "cell_type": "code",
      "metadata": {
        "id": "e5mvFrlXODwq",
        "colab_type": "code",
        "outputId": "596ee741-2bd6-4e0b-f62b-b0648f2ea0a7",
        "colab": {
          "base_uri": "https://localhost:8080/",
          "height": 225
        }
      },
      "source": [
        "data1.summary.apply(word_count,1)"
      ],
      "execution_count": 0,
      "outputs": [
        {
          "output_type": "execute_result",
          "data": {
            "text/plain": [
              "0        {'a': 1, 'solid': 1, 'performer,': 1, 'and': 1...\n",
              "1        {'price': 1, 'of': 1, 'gold': 1, 'is': 1, 'up,...\n",
              "2        {'good': 1, 'functionality,': 1, 'but': 1, 'no...\n",
              "3        {'one': 1, 'of': 2, 'the': 1, 'last': 1, 'an':...\n",
              "4                        {'still': 1, 'the': 1, 'best': 1}\n",
              "                               ...                        \n",
              "53253    {'portable': 1, 'and': 1, 'very': 1, 'easy': 1...\n",
              "53254    {'accuteck': 1, 'shippro': 1, 'digital': 1, 'p...\n",
              "53255    {'extremely': 1, 'accurate,': 1, 'foolproof': ...\n",
              "53256     {'fast,': 1, 'easy': 1, 'and': 1, 'accurate': 1}\n",
              "53257    {'great': 1, 'value': 1, 'on': 1, 'a': 1, 'goo...\n",
              "Name: summary, Length: 53258, dtype: object"
            ]
          },
          "metadata": {
            "tags": []
          },
          "execution_count": 9
        }
      ]
    },
    {
      "cell_type": "code",
      "metadata": {
        "id": "7josoe3BXdrD",
        "colab_type": "code",
        "outputId": "2ec1978d-5d78-473f-9f95-cb7ace4b76c2",
        "colab": {
          "base_uri": "https://localhost:8080/",
          "height": 52
        }
      },
      "source": [
        "# Find nth Prime No\n",
        "n=int(input(\"Enter the nth prime no u want :\"))\n",
        "prime_no=[2,3]\n",
        "i=3\n",
        "if(0<n<3):\n",
        "  print(n,\"th prime no is \",prime_no[n-1])\n",
        "elif(n>2):\n",
        "  while(True):\n",
        "    i+=1\n",
        "    prime=True\n",
        "    for d in range( 2,int(i/2)+1):\n",
        "      if (i%d==0):\n",
        "        prime=False\n",
        "        break\n",
        "    if(prime==True):\n",
        "          prime_no.append(i)\n",
        "    if(len(prime_no)==n):\n",
        "        break\n",
        "  print(n,'th prime no is :', prime_no[n-1])\n",
        "else:\n",
        "  print('Please Enter A Valid Number')\n",
        "        "
      ],
      "execution_count": 0,
      "outputs": [
        {
          "output_type": "stream",
          "text": [
            "Enter the nth prime no u want :10\n",
            "10 th prime no is : 29\n"
          ],
          "name": "stdout"
        }
      ]
    },
    {
      "cell_type": "code",
      "metadata": {
        "id": "XycMuR9OxQl-",
        "colab_type": "code",
        "colab": {}
      },
      "source": [
        ""
      ],
      "execution_count": 0,
      "outputs": []
    }
  ]
}
