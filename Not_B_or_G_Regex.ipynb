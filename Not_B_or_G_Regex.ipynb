{
  "nbformat": 4,
  "nbformat_minor": 0,
  "metadata": {
    "colab": {
      "name": "Not-B-or-G_Regex",
      "provenance": [],
      "include_colab_link": true
    },
    "kernelspec": {
      "name": "python3",
      "display_name": "Python 3"
    }
  },
  "cells": [
    {
      "cell_type": "markdown",
      "metadata": {
        "id": "view-in-github",
        "colab_type": "text"
      },
      "source": [
        "<a href=\"https://colab.research.google.com/github/reubence/NLP-COURSEWORK/blob/master/Not_B_or_G_Regex.ipynb\" target=\"_parent\"><img src=\"https://colab.research.google.com/assets/colab-badge.svg\" alt=\"Open In Colab\"/></a>"
      ]
    },
    {
      "cell_type": "markdown",
      "metadata": {
        "id": "aIzJZP0XUdcu",
        "colab_type": "text"
      },
      "source": [
        "**Lecture 2: Using regex to find characters from strings. Not starting with B or ending with G**"
      ]
    },
    {
      "cell_type": "code",
      "metadata": {
        "id": "j1c_quk5hpUM",
        "colab_type": "code",
        "colab": {}
      },
      "source": [
        "import pandas as pd\n",
        "import gzip\n",
        "import re"
      ],
      "execution_count": 0,
      "outputs": []
    },
    {
      "cell_type": "markdown",
      "metadata": {
        "id": "LldAHKMfTKTy",
        "colab_type": "text"
      },
      "source": [
        "**Reading Dataset from link**"
      ]
    },
    {
      "cell_type": "code",
      "metadata": {
        "id": "D8KCE_-Jhr9u",
        "colab_type": "code",
        "colab": {}
      },
      "source": [
        "df = pd.read_json(\"http://snap.stanford.edu/data/amazon/productGraph/categoryFiles/reviews_Office_Products_5.json.gz\",lines=True)"
      ],
      "execution_count": 0,
      "outputs": []
    },
    {
      "cell_type": "markdown",
      "metadata": {
        "id": "cHJV5_8NTRcW",
        "colab_type": "text"
      },
      "source": [
        "**Viewing dataset to get an idea**"
      ]
    },
    {
      "cell_type": "code",
      "metadata": {
        "id": "E1AxWxFdh9Zi",
        "colab_type": "code",
        "outputId": "d91a3696-4ed9-4f77-b594-a1c8897a9fe2",
        "colab": {
          "base_uri": "https://localhost:8080/",
          "height": 280
        }
      },
      "source": [
        "df.head()"
      ],
      "execution_count": 0,
      "outputs": [
        {
          "output_type": "execute_result",
          "data": {
            "text/html": [
              "<div>\n",
              "<style scoped>\n",
              "    .dataframe tbody tr th:only-of-type {\n",
              "        vertical-align: middle;\n",
              "    }\n",
              "\n",
              "    .dataframe tbody tr th {\n",
              "        vertical-align: top;\n",
              "    }\n",
              "\n",
              "    .dataframe thead th {\n",
              "        text-align: right;\n",
              "    }\n",
              "</style>\n",
              "<table border=\"1\" class=\"dataframe\">\n",
              "  <thead>\n",
              "    <tr style=\"text-align: right;\">\n",
              "      <th></th>\n",
              "      <th>reviewerID</th>\n",
              "      <th>asin</th>\n",
              "      <th>reviewerName</th>\n",
              "      <th>helpful</th>\n",
              "      <th>reviewText</th>\n",
              "      <th>overall</th>\n",
              "      <th>summary</th>\n",
              "      <th>unixReviewTime</th>\n",
              "      <th>reviewTime</th>\n",
              "    </tr>\n",
              "  </thead>\n",
              "  <tbody>\n",
              "    <tr>\n",
              "      <th>0</th>\n",
              "      <td>A32T2H8150OJLU</td>\n",
              "      <td>B00000JBLH</td>\n",
              "      <td>ARH</td>\n",
              "      <td>[3, 4]</td>\n",
              "      <td>I bought my first HP12C in about 1984 or so, a...</td>\n",
              "      <td>5</td>\n",
              "      <td>A solid performer, and long time friend</td>\n",
              "      <td>1094169600</td>\n",
              "      <td>09 3, 2004</td>\n",
              "    </tr>\n",
              "    <tr>\n",
              "      <th>1</th>\n",
              "      <td>A3MAFS04ZABRGO</td>\n",
              "      <td>B00000JBLH</td>\n",
              "      <td>Let it Be \"Alan\"</td>\n",
              "      <td>[7, 9]</td>\n",
              "      <td>WHY THIS BELATED REVIEW? I feel very obliged t...</td>\n",
              "      <td>5</td>\n",
              "      <td>Price of GOLD is up, so don't bury the golden ...</td>\n",
              "      <td>1197676800</td>\n",
              "      <td>12 15, 2007</td>\n",
              "    </tr>\n",
              "    <tr>\n",
              "      <th>2</th>\n",
              "      <td>A1F1A0QQP2XVH5</td>\n",
              "      <td>B00000JBLH</td>\n",
              "      <td>Mark B</td>\n",
              "      <td>[3, 3]</td>\n",
              "      <td>I have an HP 48GX that has been kicking for mo...</td>\n",
              "      <td>2</td>\n",
              "      <td>Good functionality, but not durable like old HPs</td>\n",
              "      <td>1293840000</td>\n",
              "      <td>01 1, 2011</td>\n",
              "    </tr>\n",
              "    <tr>\n",
              "      <th>3</th>\n",
              "      <td>A49R5DBXXQDE5</td>\n",
              "      <td>B00000JBLH</td>\n",
              "      <td>R. D Johnson</td>\n",
              "      <td>[7, 8]</td>\n",
              "      <td>I've started doing more finance stuff recently...</td>\n",
              "      <td>5</td>\n",
              "      <td>One of the last of an almost extinct species</td>\n",
              "      <td>1145404800</td>\n",
              "      <td>04 19, 2006</td>\n",
              "    </tr>\n",
              "    <tr>\n",
              "      <th>4</th>\n",
              "      <td>A2XRMQA6PJ5ZJ8</td>\n",
              "      <td>B00000JBLH</td>\n",
              "      <td>Roger J. Buffington</td>\n",
              "      <td>[0, 0]</td>\n",
              "      <td>For simple calculations and discounted cash fl...</td>\n",
              "      <td>5</td>\n",
              "      <td>Still the best</td>\n",
              "      <td>1375574400</td>\n",
              "      <td>08 4, 2013</td>\n",
              "    </tr>\n",
              "  </tbody>\n",
              "</table>\n",
              "</div>"
            ],
            "text/plain": [
              "       reviewerID        asin  ... unixReviewTime   reviewTime\n",
              "0  A32T2H8150OJLU  B00000JBLH  ...     1094169600   09 3, 2004\n",
              "1  A3MAFS04ZABRGO  B00000JBLH  ...     1197676800  12 15, 2007\n",
              "2  A1F1A0QQP2XVH5  B00000JBLH  ...     1293840000   01 1, 2011\n",
              "3   A49R5DBXXQDE5  B00000JBLH  ...     1145404800  04 19, 2006\n",
              "4  A2XRMQA6PJ5ZJ8  B00000JBLH  ...     1375574400   08 4, 2013\n",
              "\n",
              "[5 rows x 9 columns]"
            ]
          },
          "metadata": {
            "tags": []
          },
          "execution_count": 50
        }
      ]
    },
    {
      "cell_type": "markdown",
      "metadata": {
        "id": "1H11UzO3TYHA",
        "colab_type": "text"
      },
      "source": [
        "**Creating a new dataframe of the columns that we need to extract word count dictionary from**"
      ]
    },
    {
      "cell_type": "code",
      "metadata": {
        "id": "Gp4q7AXJjOD6",
        "colab_type": "code",
        "colab": {}
      },
      "source": [
        "df2 = df[['reviewText','summary']]"
      ],
      "execution_count": 0,
      "outputs": []
    },
    {
      "cell_type": "code",
      "metadata": {
        "id": "-bMFu7Kpl84R",
        "colab_type": "code",
        "outputId": "09865f1a-5fce-4499-f6a5-a5a70eb4a1f5",
        "colab": {
          "base_uri": "https://localhost:8080/",
          "height": 196
        }
      },
      "source": [
        "df2.head()"
      ],
      "execution_count": 0,
      "outputs": [
        {
          "output_type": "execute_result",
          "data": {
            "text/html": [
              "<div>\n",
              "<style scoped>\n",
              "    .dataframe tbody tr th:only-of-type {\n",
              "        vertical-align: middle;\n",
              "    }\n",
              "\n",
              "    .dataframe tbody tr th {\n",
              "        vertical-align: top;\n",
              "    }\n",
              "\n",
              "    .dataframe thead th {\n",
              "        text-align: right;\n",
              "    }\n",
              "</style>\n",
              "<table border=\"1\" class=\"dataframe\">\n",
              "  <thead>\n",
              "    <tr style=\"text-align: right;\">\n",
              "      <th></th>\n",
              "      <th>reviewText</th>\n",
              "      <th>summary</th>\n",
              "    </tr>\n",
              "  </thead>\n",
              "  <tbody>\n",
              "    <tr>\n",
              "      <th>0</th>\n",
              "      <td>I bought my first HP12C in about 1984 or so, a...</td>\n",
              "      <td>A solid performer, and long time friend</td>\n",
              "    </tr>\n",
              "    <tr>\n",
              "      <th>1</th>\n",
              "      <td>WHY THIS BELATED REVIEW? I feel very obliged t...</td>\n",
              "      <td>Price of GOLD is up, so don't bury the golden ...</td>\n",
              "    </tr>\n",
              "    <tr>\n",
              "      <th>2</th>\n",
              "      <td>I have an HP 48GX that has been kicking for mo...</td>\n",
              "      <td>Good functionality, but not durable like old HPs</td>\n",
              "    </tr>\n",
              "    <tr>\n",
              "      <th>3</th>\n",
              "      <td>I've started doing more finance stuff recently...</td>\n",
              "      <td>One of the last of an almost extinct species</td>\n",
              "    </tr>\n",
              "    <tr>\n",
              "      <th>4</th>\n",
              "      <td>For simple calculations and discounted cash fl...</td>\n",
              "      <td>Still the best</td>\n",
              "    </tr>\n",
              "  </tbody>\n",
              "</table>\n",
              "</div>"
            ],
            "text/plain": [
              "                                          reviewText                                            summary\n",
              "0  I bought my first HP12C in about 1984 or so, a...            A solid performer, and long time friend\n",
              "1  WHY THIS BELATED REVIEW? I feel very obliged t...  Price of GOLD is up, so don't bury the golden ...\n",
              "2  I have an HP 48GX that has been kicking for mo...   Good functionality, but not durable like old HPs\n",
              "3  I've started doing more finance stuff recently...       One of the last of an almost extinct species\n",
              "4  For simple calculations and discounted cash fl...                                     Still the best"
            ]
          },
          "metadata": {
            "tags": []
          },
          "execution_count": 52
        }
      ]
    },
    {
      "cell_type": "markdown",
      "metadata": {
        "colab_type": "text",
        "id": "zShgSXGyHhP9"
      },
      "source": [
        "**Reading the first cell of the dataframe above**"
      ]
    },
    {
      "cell_type": "code",
      "metadata": {
        "colab_type": "code",
        "outputId": "790852a7-1db0-4b73-95e8-0af21042772e",
        "id": "SnZc-K-uHhP5",
        "colab": {
          "base_uri": "https://localhost:8080/",
          "height": 53
        }
      },
      "source": [
        "sample = df2.loc[1].reviewText.strip()\n",
        "sample"
      ],
      "execution_count": 0,
      "outputs": [
        {
          "output_type": "execute_result",
          "data": {
            "text/plain": [
              "'WHY THIS BELATED REVIEW? I feel very obliged to share my views about this old workhorse, the HP12C GOLD at its 25th anniversary and my 1Oth year as a satisfied ower user and fan. Especially after sharing my frank views on Amazon about two of its three successors on Amazon.com, burying the HP12c Platinum (2004 1st release, HP12cP) and praising the HP12c Platiunum Anniversary Edition (2006 3rd release, HP12cPAE or HP12cPA).To the majority of HP 12c calculator owners and fans, including the non-techkie nerd like myself, the name Hewlett-Packard To the majority of HP 12c calculator owners and fans. The brandname of Hewlett-Packard is synonymous with the highest quality and best range offered in handheld electronic business financial calculators before the first generation of personal computers hits the desktops of business users.To date (December 2007), the bearer of this \"gold\" standard is none other than the HP12C HP\\'s \"golden boy\" in its calculator business segment.The HP12C now a matured product, is the only continuing HP handheld surviving calculator product since \\'81 and probably the longest selling electronic calculator ever. According to HP almost 15 million HP 12Cs, cPs was sold since ,it is probably the best selling HP (and RPN) calculator ever.As a proven product, the HP12C \"gold\" works from day 1, with its form factor and sofware remaining unchanged and has not been dethroned by rivals and even its HP successors which had come and go.Even with PC software versions being sold, the 12C remains the truly indispensable \"portable\" finance-business heldheld computer for its owners, professionals and students alike. This handy companion powers up immediately and is faster than any portable personal computers to jump right into the action.The HP12C is a serious product and the ultimate time tested solution, field tested proven by its users and survived all its rival products, the workhorse moves on.Anyone in charge of this HP line should always bear in mind that the continued production run of the HP 12c is a testimony of HP\\'s quality and standard expected by its customers.Don\\'t just listen to a HP12C fan here, I own and am using three out of 4 models of the HP 12C series, and it is amusing and somewhat disappointing to observe that it had taken HP at least four years and two major upgrades of the HP 12c Platinium, in its futile attempt to \"fix & retire\" the HP12C with three successors in the form of HP12cPlatinum since 2004.It would seems especially frustrating on the part of HP, to realize after all the effort spent on remaking the HP12cPlatinum models that it would not outdone its siblings the HP10bII and HP17bII+ series to seriously challenge the HP12C Gold.  However, by their own rights the HP10Bs and HP17Bs, and the HP12cPlatinum may find their rightful place in the HP financial calculator line, differentiating the HP12C GOLD in terms of price and functions.IMHO, this had happened because the following golden rules were infringed by HP...GOLDEN RULE I - A PRODUCT WHICH STILL SELLS ITSELF IS NEVER OBSOLETE.GOLDEN RULE II - IF IT AREN\\'T BROKEN, DON\\'t FIX IT ! \"The gold rule of thumb should always be guarded as gospel by the HP heldheld calculator product team. Based on the same reasoning, the HP12C\\'s built quality and product standard is paramount to its users.GOLDEN RULE III - ALWAYS LISTEN TO YOUR CUSTOMERS! If in doubt, see rules I & II.GOLDEN RULE IV - ONLY OUTSOURCE THE MANUFACTURING OF YOUR PRODUCT TO SOMEONE WHO COULD BETTER YOUR OWN PRODUCT QUALITY. If in doubt ask IBM about Lenovo.GOLDEN RULE V - THE BENCHMARKING INDUSTRY STANDARD FOR THIS PRODUCT LINE IS THE HP12C. Just in case, if HP does not know or is not listening to its customers.GOLDEN RULE VI - DO NOT DISCONTINUE THE ICONIC HP12C GOLD. HP needs no reminder that the customer is always right. Please let your customer, the ultimate market force decide if the HP12C should ever be retired.As an ardent fan of HP12C and line of financial business & scientific calculators, I am of the view that the day when HP discontinue the HP12C would be the day it exit this business segment. I speculate this would happen when the HP brandname disappears from the 12C just like after IBM name had disappeared from ThinkPads and ThinkCentres.Since the price of GOLD is on the rise, it is indeed puzzling to fans of the HP12C, why HP did not release a genuine HP12C gold 25th anniversary model for the fans to mark the occasion, if replacing the discontinuing the HP12C GOLD is the intention READ ALL GOLDEN RULES above.To be fair, the silver HP12c Platinum Anniversary is very nice and has spotted the \"retro\" silver look of the HP 11C, however, it is still not the GOLD standard. With HP missing this golden opportunity to mark the occasion, I would love to see and own a HP 12C engraved with 50th Anniversary logo, reckon that this would be the ultimate testimony for the HP12C and a milestone for its fans.Looking forward, a GOLD 50th anniversary HP12C Anniversary model would be very nice for the fans.For HP, this is a lucrative business proposition. By now, they would have realized that if they have any of its products which could hit a 50th year home run  in 2031, it would not be from its other product line-it would be this original HP12C GOLD standard bearer. So please treat the old workhorse with the upmost respect!'"
            ]
          },
          "metadata": {
            "tags": []
          },
          "execution_count": 85
        }
      ]
    },
    {
      "cell_type": "markdown",
      "metadata": {
        "id": "bPN8o9GkGuQ5",
        "colab_type": "text"
      },
      "source": [
        "**Removed leading whitespaces and found all words that dont start with b or end with g**\n",
        "\n",
        "---\n",
        "\n"
      ]
    },
    {
      "cell_type": "code",
      "metadata": {
        "id": "x4Uk2h78EDpT",
        "colab_type": "code",
        "outputId": "d7f930a3-3a3d-4d23-f3cc-24f241cc1ec2",
        "colab": {
          "base_uri": "https://localhost:8080/",
          "height": 53
        }
      },
      "source": [
        "y = re.findall(r\"\\b\\W\\^bB\\w+\\b | \\b\\w+[^gG]\\W\\b\",sample)\n",
        "print(y)"
      ],
      "execution_count": 0,
      "outputs": [
        {
          "output_type": "stream",
          "text": [
            "[' THIS ', ' REVIEW? ', ' feel ', ' obliged ', ' share ', ' views ', ' this ', ' workhorse, ', ' HP12C ', ' at ', ' 25th ', ' and ', ' 1Oth ', ' as ', ' satisfied ', ' user ', ' fan. ', ' after ', ' my ', ' views ', ' Amazon ', ' two ', ' its ', ' successors ', ' Amazon.', ' the ', ' Platinum (', ' 1st ', ' HP12cP) ', ' the ', ' Platiunum ', ' Edition (', ' 3rd ', ' HP12cPAE ', ' HP12cPA).', ' the ', ' of ', ' 12c ', ' owners ', ' fans, ', ' the ', ' nerd ', ' myself, ', ' name ', ' To ', ' majority ', ' HP ', ' calculator ', ' and ', ' The ', ' of ', ' is ', ' with ', ' highest ', ' and ', ' range ', ' in ', ' electronic ', ' financial ', ' before ', ' first ', ' of ', ' computers ', ' the ', ' of ', ' users.', ' date (', ' the ', ' of ', ' standard ', ' none ', ' than ', ' HP12C ', ' boy\" ', ' its ', ' business ', ' HP12C ', ' matured ', ' is ', ' only ', ' HP ', ' calculator ', \" since '\", ' and ', ' the ', ' electronic ', ' ever. ', ' to ', ' almost ', ' million ', ' 12Cs, ', ' was ', ' since ,', ' is ', ' the ', ' HP (', ' RPN) ', ' ever.', ' proven ', ' the ', ' works ', ' day ', ' with ', ' form ', ' and ', ' unchanged ', ' has ', ' been ', ' by ', ' and ', ' its ', ' successors ', ' had ', ' and ', ' with ', ' software ', ' sold, ', ' 12C ', ' the ', ' indispensable \"', ' finance-', ' heldheld ', ' for ', ' owners, ', ' and ', ' alike. ', ' handy ', ' powers ', ' immediately ', ' is ', ' than ', ' portable ', ' computers ', ' jump ', ' into ', ' action.', ' HP12C ', ' serious ', ' and ', ' ultimate ', ' tested ', ' field ', ' proven ', ' its ', ' and ', ' all ', ' rival ', ' the ', ' moves ', ' in ', ' of ', ' HP ', ' should ', ' bear ', ' mind ', ' the ', ' production ', ' of ', ' HP ', ' is ', ' testimony ', \" HP'\", ' quality ', ' standard ', ' by ', ' customers.', ' just ', ' to ', ' HP12C ', ' here, ', ' own ', ' am ', ' three ', ' of ', ' models ', ' the ', ' 12C ', ' and ', ' is ', ' and ', ' to ', ' that ', ' had ', ' HP ', ' least ', ' years ', ' two ', ' upgrades ', ' the ', ' 12c ', ' in ', ' futile ', ' to \"', ' retire\" ', ' HP12C ', ' three ', ' in ', ' form ', ' HP12cPlatinum ', ' 2004.', ' would ', ' especially ', ' on ', ' part ', ' HP, ', ' realize ', ' all ', ' effort ', ' on ', ' the ', ' models ', ' it ', ' not ', ' its ', ' the ', ' and ', ' series ', ' seriously ', ' the ', ' However, ', ' their ', ' rights ', ' HP10Bs ', ' HP17Bs, ', ' the ', ' may ', ' their ', ' place ', ' the ', ' financial ', ' line, ', ' the ', ' GOLD ', ' terms ', ' price ', ' functions.', ' this ', ' happened ', ' the ', ' golden ', ' were ', ' by ', ' RULE ', ' PRODUCT ', ' STILL ', ' ITSELF ', ' NEVER ', ' RULE ', ' IF ', \" AREN'\", ' BROKEN, ', ' FIX ', ' gold ', ' of ', ' should ', ' be ', ' as ', ' by ', ' HP ', ' calculator ', ' team. ', ' on ', ' same ', ' the ', ' built ', ' and ', ' standard ', ' paramount ', ' its ', ' RULE ', ' ALWAYS ', ' TO ', ' CUSTOMERS! ', ' in ', ' see ', ' II.', ' RULE ', ' ONLY ', ' THE ', ' OF ', ' PRODUCT ', ' SOMEONE ', ' COULD ', ' YOUR ', ' PRODUCT ', ' If ', ' doubt ', ' IBM ', ' Lenovo.', ' RULE ', ' THE ', ' INDUSTRY ', ' FOR ', ' PRODUCT ', ' IS ', ' HP12C. ', ' in ', ' if ', ' does ', ' know ', ' is ', ' to ', ' customers.', ' RULE ', ' DO ', ' DISCONTINUE ', ' ICONIC ', ' GOLD. ', ' needs ', ' reminder ', ' the ', ' is ', ' right. ', ' let ', ' customer, ', ' ultimate ', ' force ', ' if ', ' HP12C ', ' ever ', ' retired.', ' an ', ' fan ', ' HP12C ', ' line ', ' financial ', ' scientific ', ' am ', ' the ', ' that ', ' day ', ' HP ', ' the ', ' would ', ' the ', ' it ', ' this ', ' segment. ', ' speculate ', ' would ', ' when ', ' HP ', ' disappears ', ' the ', ' just ', ' after ', ' name ', ' disappeared ', ' ThinkPads ', ' ThinkCentres.', ' the ', ' of ', ' is ', ' the ', ' it ', ' indeed ', ' to ', ' of ', ' HP12C, ', ' HP ', ' not ', ' genuine ', ' gold ', ' anniversary ', ' for ', ' fans ', ' mark ', ' occasion, ', ' the ', ' the ', ' GOLD ', ' the ', ' READ ', ' GOLDEN ', ' above.', ' be ', ' the ', ' HP12c ', ' Anniversary ', ' very ', ' and ', ' spotted ', ' silver ', ' of ', ' HP ', ' however, ', ' is ', ' not ', ' GOLD ', ' With ', ' this ', ' opportunity ', ' mark ', ' occasion, ', ' would ', ' to ', ' and ', ' HP ', ' engraved ', ' 50th ', ' logo, ', ' that ', ' would ', ' the ', ' testimony ', ' the ', ' and ', ' milestone ', ' its ', ' forward, ', ' GOLD ', ' anniversary ', ' Anniversary ', ' would ', ' very ', ' for ', ' fans.', ' HP, ', ' is ', ' lucrative ', ' proposition. ', ' now, ', ' would ', ' realized ', ' if ', ' have ', ' of ', ' products ', ' could ', ' 50th ', ' home ', ' in ', ' it ', ' not ', ' from ', ' other ', ' line-', ' would ', ' this ', ' HP12C ', ' standard ', ' So ', ' treat ', ' old ', ' with ', ' upmost ']\n"
          ],
          "name": "stdout"
        }
      ]
    }
  ]
}